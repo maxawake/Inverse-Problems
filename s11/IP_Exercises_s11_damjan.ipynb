{
 "cells": [
  {
   "cell_type": "markdown",
   "id": "ecf3d23f",
   "metadata": {
    "deletable": false,
    "editable": false,
    "nbgrader": {
     "cell_type": "markdown",
     "checksum": "28fffde08b71dfb85102918b336e0dd2",
     "grade": false,
     "grade_id": "cell-49b24469f46dfeca",
     "locked": true,
     "schema_version": 3,
     "solution": false,
     "task": false
    }
   },
   "source": [
    "# Inverse Problems Exercises: 2022s s11 (all)\n",
    "https://www.umm.uni-heidelberg.de/miism/"
   ]
  },
  {
   "cell_type": "markdown",
   "id": "6e30cb0f",
   "metadata": {
    "deletable": false,
    "editable": false,
    "nbgrader": {
     "cell_type": "markdown",
     "checksum": "cec4cf272782838191548438284b86fc",
     "grade": false,
     "grade_id": "cell-fa7322d20795c385",
     "locked": true,
     "schema_version": 3,
     "solution": false,
     "task": false
    }
   },
   "source": [
    "## Notes\n",
    "* Please **DO NOT** change the name of the `.ipynb` file. \n",
    "* Please **DO NOT** import extra packages to solve the tasks. \n",
    "* Please put the `.ipynb` file directly into the `.zip` archive without any intermediate folder. "
   ]
  },
  {
   "cell_type": "markdown",
   "id": "bc6444af",
   "metadata": {
    "deletable": false,
    "editable": false,
    "nbgrader": {
     "cell_type": "markdown",
     "checksum": "577de3d815a5433df6d24b2edf6f4512",
     "grade": false,
     "grade_id": "cell-25297d00d0806932",
     "locked": true,
     "schema_version": 3,
     "solution": false,
     "task": false
    }
   },
   "source": [
    "## Please provide your personal information\n",
    "* full name (Name): "
   ]
  },
  {
   "cell_type": "markdown",
   "id": "72ad1b85",
   "metadata": {
    "deletable": false,
    "nbgrader": {
     "cell_type": "markdown",
     "checksum": "6ed66fd19bab168d80c4865c274aecd5",
     "grade": true,
     "grade_id": "cell-2d2bf14a246580e7",
     "locked": false,
     "points": 0,
     "schema_version": 3,
     "solution": true,
     "task": false
    }
   },
   "source": [
    "* Damjan Kalšan"
   ]
  },
  {
   "cell_type": "markdown",
   "id": "a5563693",
   "metadata": {
    "deletable": false,
    "editable": false,
    "nbgrader": {
     "cell_type": "markdown",
     "checksum": "c79ae4cd992017c5c5c0fae104022b52",
     "grade": false,
     "grade_id": "cell-2720d1f0677925d2",
     "locked": true,
     "schema_version": 3,
     "solution": false,
     "task": false
    }
   },
   "source": [
    "## C02: Subspace pursuit"
   ]
  },
  {
   "cell_type": "code",
   "execution_count": null,
   "id": "d3a1cafd",
   "metadata": {
    "deletable": false,
    "editable": false,
    "nbgrader": {
     "cell_type": "code",
     "checksum": "93c9322f17eb709a8ab51da88c2b15d3",
     "grade": false,
     "grade_id": "cell-0f8f392fed8f570e",
     "locked": true,
     "schema_version": 3,
     "solution": false,
     "task": false
    }
   },
   "outputs": [],
   "source": [
    "import numpy as np\n",
    "import matplotlib.pyplot as plt"
   ]
  },
  {
   "cell_type": "code",
   "execution_count": null,
   "id": "7000a7ce",
   "metadata": {
    "deletable": false,
    "editable": false,
    "nbgrader": {
     "cell_type": "code",
     "checksum": "b104d5399a8dc3bbb2641137914c5de9",
     "grade": false,
     "grade_id": "cell-5cdc6363aa618c8a",
     "locked": true,
     "schema_version": 3,
     "solution": false,
     "task": false
    }
   },
   "outputs": [],
   "source": [
    "import sys\n",
    "\n",
    "# from the nbgrader folders\n",
    "sys.path.append('../../exercises')\n",
    "sys.path.append('../../../exercises')\n",
    "\n",
    "file_gaussian = 'file_gaussian.npz'\n",
    "with np.load(file_gaussian) as data:\n",
    "    f_true = data['f_true']\n",
    "    A_psf = data['A_psf']"
   ]
  },
  {
   "cell_type": "markdown",
   "id": "08be8d66",
   "metadata": {
    "deletable": false,
    "editable": false,
    "nbgrader": {
     "cell_type": "markdown",
     "checksum": "cf38418499da65956d46ca7de58972c9",
     "grade": false,
     "grade_id": "cell-efdf5f80ceee13b9",
     "locked": true,
     "schema_version": 3,
     "solution": false,
     "task": false
    }
   },
   "source": [
    "### Imaging model\n",
    "The imaging model can be represented by\n",
    "$$\n",
    "g = h \\otimes f_\\text{true}\n",
    "= Af_\\text{true}\n",
    "= \\mathcal{F}^{-1}\\{ \\mathcal{F}\\{h\\} \\mathcal{F}\\{f_\\text{true}\\} \\},\n",
    "$$\n",
    "$$\n",
    "g' = g + \\epsilon.\n",
    "$$\n",
    "* $f_\\text{true}$ is the input signal\n",
    "* $h$ is the point spread function (kernel)\n",
    "* $\\otimes$ is the convolution operator\n",
    "* $A$ is the Toeplitz matrix of $h$\n",
    "* $\\mathcal{F}$ and $\\mathcal{F}^{-1}$ are the Fourier transform operator and inverse Fourier transform operator\n",
    "* $\\epsilon$ is the additive Gaussian noise\n",
    "* $g$ is the filtered signal\n",
    "* $g'$ is the noisy signal"
   ]
  },
  {
   "cell_type": "code",
   "execution_count": null,
   "id": "827572e1",
   "metadata": {
    "deletable": false,
    "editable": false,
    "nbgrader": {
     "cell_type": "code",
     "checksum": "c281f0f51018d55bd42de71bb2cdacdd",
     "grade": false,
     "grade_id": "cell-5d84f7a51cdeb7fa",
     "locked": true,
     "schema_version": 3,
     "solution": false,
     "task": false
    }
   },
   "outputs": [],
   "source": [
    "def compute_haar_wavelet_matrix(dim):\n",
    "    \"\"\" Create Haar wavelet transformation matrix H for the\n",
    "    matrix vector multiplication implementation of Haar wavelet transformation.\n",
    "    This function uses the following formula to create the Haar transformation matrix:\n",
    "        H_n = 1/sqrt(2)[H_(n/2) kron(1 1), I_(n/2) kron (1 -1)]\n",
    "    where 'kron' denotes the kronecker product.\n",
    "    The iteration starts with H_1=[1]. The normalization constant 1/sqrt(2) ensure that\n",
    "    H_n^T * H_n = I, where I is identity matrix.\n",
    "    \n",
    "    Note: Haar wavelets are the rows of H.\n",
    "    \n",
    "    :param dim: dimension of square Haar wavelet transformbation matrix..\n",
    "    :return: H: Haar transformation matrix with size as the power of 2 - i.e. 2, 4, 8, 16, 32, etc.\n",
    "    \"\"\"\n",
    "\n",
    "    level = int(np.log2(dim))\n",
    "    if (2**level < dim):\n",
    "        print('error: value of input parameter is not power of 2')\n",
    "        return\n",
    "\n",
    "    # lowpass filter\n",
    "    lp = np.array([[1, 1]])\n",
    "    # highpass filter\n",
    "    hp = np.array([[1, -1]])\n",
    "    # normalizazion constant\n",
    "    NC = 1/np.sqrt(2)\n",
    "\n",
    "    H = np.array([1])\n",
    "\n",
    "    for i in range(level):\n",
    "        t1 = np.kron(H, lp)\n",
    "        t2 = np.kron(np.identity(len(H)),hp)\n",
    "        T = np.concatenate((t1, t2), axis=0)\n",
    "        H = np.dot(NC,T)\n",
    "\n",
    "    return H"
   ]
  },
  {
   "cell_type": "markdown",
   "id": "9a50bf88",
   "metadata": {
    "deletable": false,
    "editable": false,
    "nbgrader": {
     "cell_type": "markdown",
     "checksum": "6d4755683a48386ffa713e305a055c07",
     "grade": false,
     "grade_id": "cell-97830f2a943080e4",
     "locked": true,
     "schema_version": 3,
     "solution": false,
     "task": false
    }
   },
   "source": [
    "### Subspace multiplication\n",
    "The multiplication of matrix $A$ and vector $b$ in the subspace $T$ is denoted as $A_T b$, where\n",
    "$$\n",
    "(A_T b)_i =\n",
    "\\begin{cases}\n",
    "    0 & i \\notin T \\\\\n",
    "    (Ab)_i & otherwise \\\\\n",
    "\\end{cases}.\n",
    "$$\n",
    "* Given the matrix $A$\n",
    "* Given the vector $b$\n",
    "* Given the index array $T$\n",
    "* Implement the function `submul()` (using `numpy.array`)"
   ]
  },
  {
   "cell_type": "code",
   "execution_count": null,
   "id": "a6aef721",
   "metadata": {
    "deletable": false,
    "nbgrader": {
     "cell_type": "code",
     "checksum": "5469985ed5d1bb8bb30a85ec517718ef",
     "grade": false,
     "grade_id": "cell-bcce5380ea7aca98",
     "locked": false,
     "schema_version": 3,
     "solution": true,
     "task": false
    }
   },
   "outputs": [],
   "source": [
    "def submul(A, b, T):\n",
    "    \"\"\" Subspace multiplication.\n",
    "    \n",
    "    :param A: 2d matrix A.\n",
    "    :param b: 1d vector b.\n",
    "    :param T: Index array.\n",
    "    :return: Subspace multiplication vector by definition.\n",
    "    \"\"\"\n",
    "    \n",
    "    T = list(T)\n",
    "    res = np.zeros(A.shape[0], dtype=A.dtype)\n",
    "    \n",
    "    if len(T) > 0:\n",
    "        res[T] = A[T, :] @ b\n",
    "    \n",
    "    return res"
   ]
  },
  {
   "cell_type": "code",
   "execution_count": null,
   "id": "1b28e0de",
   "metadata": {
    "deletable": false,
    "editable": false,
    "nbgrader": {
     "cell_type": "code",
     "checksum": "c9a1ae3686dfc4417768b2acaef776b6",
     "grade": true,
     "grade_id": "a010",
     "locked": true,
     "points": 10,
     "schema_version": 3,
     "solution": false,
     "task": false
    }
   },
   "outputs": [],
   "source": [
    "# This cell contains hidden tests.\n",
    "\n",
    "submul_TEST = submul(A_psf, f_true, [1, 3])\n"
   ]
  },
  {
   "cell_type": "markdown",
   "id": "ccd58b1f",
   "metadata": {
    "deletable": false,
    "editable": false,
    "nbgrader": {
     "cell_type": "markdown",
     "checksum": "392f68f97bdefa180d796779b47e9425",
     "grade": false,
     "grade_id": "cell-091427635b31688b",
     "locked": true,
     "schema_version": 3,
     "solution": false,
     "task": false
    }
   },
   "source": [
    "### Subspace pursuit\n",
    "To find the sparse representation of the signal, the problem is formulated as follows\n",
    "$$\n",
    "\\arg\\min_s \\|s\\|_0,\\ \\text{s. t.}\\ g = Af = A\\Psi s = \\Phi s,\n",
    "$$\n",
    "where $\\Psi$ is the transform into the sparse space, and $\\Phi = A\\Psi$.\n",
    "\n",
    "The solution of $s$ can be calculated by the subspace pursuit method\n",
    "$$\n",
    "\\begin{align*}\n",
    "T^{(0)} &= \\{\\} \\\\\n",
    "s^{(0)} &= 0 \\\\\n",
    "r^{(0)} &= g - \\Phi s^{(0)} = g \\\\\n",
    "\\delta s^{(n)} &= \\Phi^{PI} r^{(n-1)} = \\Phi^{PI} g - s^{(n-1)} \\\\\n",
    "\\tilde T^{(n)} &= T^{(n-1)} \\cup \\{k\\ \\text{indices corresponding to the largest magnitude entries in}\\ \\delta s^{(n)}\\} \\\\\n",
    "\\tilde s^{(n)} &= \\Phi^{PI}_{\\tilde T^{(n)}} g \\\\\n",
    "T^{(n)} &= \\{k\\ \\text{indices corresponding to the largest magnitude entries in}\\ \\tilde s^{(n)}\\} \\\\\n",
    "s^{(n)} &= \\Phi^{PI}_{T^{(n)}} g \\\\\n",
    "r^{(n)} &= g - \\Phi s^{(n)} \\\\\n",
    "\\end{align*}\n",
    "$$\n",
    "with $\\Phi^{PI} = (\\Phi^T \\Phi)^{-1} \\Phi^T$. (using `numpy.linalg.pinv()`)\n",
    "\n",
    "* Given the system matrix $A$\n",
    "* Given the filtered signal $g$\n",
    "* Given the transform $\\Psi$\n",
    "* Given the expected number of non-zero entries for the sparse problem $k$\n",
    "* Given the number of iterations $n$\n",
    "* Return the final value $s^{(n)}$ as the first output\n",
    "* Return the history array of residual norm $[||r^{(0)}||, ..., ||r^{(n)}||]$ as the second output\n",
    "* Implement the function `solve_subspace_pursuit()` (using `numpy.array`)"
   ]
  },
  {
   "cell_type": "code",
   "execution_count": null,
   "id": "0ac31869",
   "metadata": {
    "deletable": false,
    "nbgrader": {
     "cell_type": "code",
     "checksum": "c990af1457ddd386648025eae6ebee22",
     "grade": false,
     "grade_id": "cell-21e8f852d122069f",
     "locked": false,
     "schema_version": 3,
     "solution": true,
     "task": false
    }
   },
   "outputs": [],
   "source": [
    "def solve_subspace_pursuit(A, g, Psi, k, n):\n",
    "    \"\"\" Restore the signal using Matching Pursuit Algorithm.\n",
    "    \n",
    "    :param A: 2d matrix A of the linear problem.\n",
    "    :param g: Observed signal.\n",
    "    :param Psi: Transform matrix.\n",
    "    :param k: Expected number of non-zero entries for the sparse problem.\n",
    "    :param n: Number of iterations.\n",
    "    :return: Final s estimate and the history of residual norm\n",
    "    \"\"\"\n",
    "    \n",
    "    Phi = A @ Psi\n",
    "    Phi_pinv = np.linalg.pinv(Phi)\n",
    "    \n",
    "    T = set()\n",
    "    s = np.zeros(Phi.shape[1])\n",
    "    r = g\n",
    "    history = np.array([np.linalg.norm(r)])\n",
    "    \n",
    "    if k == 0:\n",
    "        return s, history.repeat(n+1)\n",
    "    \n",
    "    for i in range(n):\n",
    "        delta_s = Phi_pinv @ g - s\n",
    "        T_tilda = T.union(set(np.argpartition(np.abs(delta_s), -k)[-k:]))\n",
    "        s_tilda = submul(Phi_pinv, g, T_tilda)\n",
    "        \n",
    "        T = set(np.argpartition(np.abs(s_tilda), -k)[-k:])\n",
    "        s = submul(Phi_pinv, g, T)\n",
    "        r = g - Phi @ s\n",
    "        \n",
    "        history = np.append(history, np.linalg.norm(r))\n",
    "        \n",
    "    return s, history"
   ]
  },
  {
   "cell_type": "markdown",
   "id": "f36c6c2a",
   "metadata": {
    "deletable": false,
    "editable": false,
    "nbgrader": {
     "cell_type": "markdown",
     "checksum": "874629449ca25b152d8665123a2b3138",
     "grade": false,
     "grade_id": "cell-a82dee60ce55a38a",
     "locked": true,
     "schema_version": 3,
     "solution": false,
     "task": false
    }
   },
   "source": [
    "### Signal processing 1\n",
    "Process the signals as follows\n",
    "* `A_1`\n",
    "  - Pad zeros to the end of `A_psf` in the columns only\n",
    "  - Make the size of `A_1` the exponent of next higher power of 2 in the columns only\n",
    "* `g_1`: filtered signal of `A_psf` and `f_true`\n",
    "* `Psi_1`: the corresponding tranform matrix (using `compute_haar_wavelet_matrix()`)\n",
    "* `k_1`: 100 non-zero entries\n",
    "* `n_1`: 10 iterations\n",
    "* `s_1`: the estimate of the sparse representation\n",
    "* `list_r_norm_1`: the history of residual norm\n",
    "\n",
    "Display the result\n",
    "* Plot the outputs in the subplots of `axs`\n",
    "* In the first subplot, show the estimated input signal $f = \\Psi s$ and the true input signal\n",
    "* In the second subplot, show the estimated measurement $Af$ and the actual measurement\n",
    "* In the third subplot, show the sparse representation $s$\n",
    "* In the fourth subplot, show the history of residual norm\n",
    "* Show the legend in each subplot"
   ]
  },
  {
   "cell_type": "code",
   "execution_count": null,
   "id": "3ee23824",
   "metadata": {
    "deletable": false,
    "nbgrader": {
     "cell_type": "code",
     "checksum": "c34ab7459f75954d5cdcbc55b285e586",
     "grade": true,
     "grade_id": "a020",
     "locked": false,
     "points": 10,
     "schema_version": 3,
     "solution": true,
     "task": false
    }
   },
   "outputs": [],
   "source": [
    "############################ NOTE TO TUTOR ############################\n",
    "# For this and the following subtask, I transposed the generated      #\n",
    "# haar wavelet matrix, in order to put the basis vectors as columns   #\n",
    "# of Psi, which is in line with the formulas provided for Matching    #\n",
    "# pursuit.                                                            #\n",
    "#                                                                     #\n",
    "# I mention this, because it might just happen that you               #\n",
    "# will assert for a non-transposed matrix.                            #\n",
    "#######################################################################\n",
    "\n",
    "\n",
    "def pad_matrix(A, rows=True, cols=True):\n",
    "    power0 = int(np.ceil(np.log2(A.shape[0])))\n",
    "    power1 = int(np.ceil(np.log2(A.shape[1])))\n",
    "    pad0 = 2 ** power0 - A.shape[0] if rows else 0\n",
    "    pad1 = 2 ** power1 - A.shape[1] if cols else 0\n",
    "    return np.pad(A, ((0, pad0), (0, pad1)))\n",
    "\n",
    "\n",
    "A_1 = pad_matrix(A_psf, rows=False, cols=True)\n",
    "g_1 = A_psf @ f_true\n",
    "Psi_1 = compute_haar_wavelet_matrix(A_1.shape[1]).T\n",
    "k_1 = 100\n",
    "n_1 = 10\n",
    "s_1, list_r_norm_1 = solve_subspace_pursuit(A_1, g_1, Psi_1, k_1, n_1)\n",
    "\n",
    "\n",
    "fig, axs = plt.subplots(4, 1, figsize=(15, 10))\n",
    "fig.suptitle('Signal processing 1')\n",
    "\n",
    "axs[0].plot(Psi_1 @ s_1, label=\"Estimated input signal $f_{estimated} = \\Psi s$\")\n",
    "axs[0].plot(f_true, label=\"True input signal $f_{true}$\")\n",
    "axs[0].legend()\n",
    "\n",
    "axs[1].plot(A_1 @ Psi_1 @ s_1, label=\"Estimated meassurement $g_{estimated} = A f_{estimated}$\")\n",
    "axs[1].plot(g_1, label=\"True meassurement $g_{true}$\")\n",
    "axs[1].legend()\n",
    "\n",
    "axs[2].plot(s_1, label=\"Sparse representation $s=\\Psi^{-1} f$\")\n",
    "axs[2].legend()\n",
    "\n",
    "axs[3].plot(list_r_norm_1, label=\"Residual norm history\")\n",
    "axs[3].legend()\n",
    "\n",
    "plt.show()"
   ]
  },
  {
   "cell_type": "code",
   "execution_count": null,
   "id": "c58976aa",
   "metadata": {
    "deletable": false,
    "editable": false,
    "nbgrader": {
     "cell_type": "code",
     "checksum": "c42865a4e7a3a4c783c133f56ebdc1cb",
     "grade": true,
     "grade_id": "a030",
     "locked": true,
     "points": 10,
     "schema_version": 3,
     "solution": false,
     "task": false
    }
   },
   "outputs": [],
   "source": [
    "# This cell contains hidden tests.\n",
    "\n",
    "shape_A_1_TEST = A_1.shape\n",
    "\n",
    "np.testing.assert_array_equal(shape_A_1_TEST[0], A_psf.shape[0])\n",
    "np.testing.assert_array_equal(2**np.uint(np.log2(shape_A_1_TEST[1])), shape_A_1_TEST[1])\n"
   ]
  },
  {
   "cell_type": "code",
   "execution_count": null,
   "id": "d49391c8",
   "metadata": {
    "deletable": false,
    "editable": false,
    "nbgrader": {
     "cell_type": "code",
     "checksum": "5697e4566c734df2316c651141776ea3",
     "grade": true,
     "grade_id": "a040",
     "locked": true,
     "points": 10,
     "schema_version": 3,
     "solution": false,
     "task": false
    }
   },
   "outputs": [],
   "source": [
    "# This cell contains hidden tests.\n"
   ]
  },
  {
   "cell_type": "code",
   "execution_count": null,
   "id": "02302e8d",
   "metadata": {
    "deletable": false,
    "editable": false,
    "nbgrader": {
     "cell_type": "code",
     "checksum": "49d91713b20fab801894a96355449410",
     "grade": true,
     "grade_id": "a050",
     "locked": true,
     "points": 10,
     "schema_version": 3,
     "solution": false,
     "task": false
    }
   },
   "outputs": [],
   "source": [
    "# This cell contains hidden tests.\n"
   ]
  },
  {
   "cell_type": "code",
   "execution_count": null,
   "id": "f156286a",
   "metadata": {
    "deletable": false,
    "editable": false,
    "nbgrader": {
     "cell_type": "code",
     "checksum": "5da4633c5cecf41278dabd191ba2cbce",
     "grade": true,
     "grade_id": "a060",
     "locked": true,
     "points": 10,
     "schema_version": 3,
     "solution": false,
     "task": false
    }
   },
   "outputs": [],
   "source": [
    "# This cell contains hidden tests.\n"
   ]
  },
  {
   "cell_type": "code",
   "execution_count": null,
   "id": "79facfc5",
   "metadata": {
    "deletable": false,
    "editable": false,
    "nbgrader": {
     "cell_type": "code",
     "checksum": "d0f286596fbb18b26aa2d8b5015c3c61",
     "grade": true,
     "grade_id": "a070",
     "locked": true,
     "points": 10,
     "schema_version": 3,
     "solution": false,
     "task": false
    }
   },
   "outputs": [],
   "source": [
    "# This cell contains hidden tests.\n",
    "\n",
    "np.testing.assert_array_equal(list_r_norm_1.size, 11)\n"
   ]
  },
  {
   "cell_type": "markdown",
   "id": "597ec217",
   "metadata": {
    "deletable": false,
    "editable": false,
    "nbgrader": {
     "cell_type": "markdown",
     "checksum": "283840349d8cd2e78055a1d9da7a3572",
     "grade": false,
     "grade_id": "cell-92dcb6ddf50374ff",
     "locked": true,
     "schema_version": 3,
     "solution": false,
     "task": false
    }
   },
   "source": [
    "### Signal processing 2\n",
    "Process the signals as follows\n",
    "* Use `A_1`, `g_1`, `Psi_1`, `n_1`\n",
    "* `list_k`: 100 numbers from 0 to 99\n",
    "* `output_s`: a matrix of the estimated sparse representation, with each column corresponding to each $k$\n",
    "* `output_r`: an array of the residual norm corresponding to each estimated sparse representation\n",
    "\n",
    "Display the result\n",
    "* Plot the outputs in the subplots of `axs`\n",
    "* In the first subplot, show the first 100 rows of `output_s` as an image\n",
    "* In the second subplot, show the residual norm as a function of $k$\n",
    "* Add proper titles to the subplots"
   ]
  },
  {
   "cell_type": "code",
   "execution_count": null,
   "id": "6e52c60c",
   "metadata": {
    "deletable": false,
    "nbgrader": {
     "cell_type": "code",
     "checksum": "da7819620710d3b7f21f837f0f1c18a2",
     "grade": true,
     "grade_id": "a080",
     "locked": false,
     "points": 10,
     "schema_version": 3,
     "solution": true,
     "task": false
    }
   },
   "outputs": [],
   "source": [
    "list_k = np.arange(0, 100)\n",
    "\n",
    "output_s = []\n",
    "output_r = []\n",
    "for k in list_k:\n",
    "    s_k, list_r_norm_k = solve_subspace_pursuit(A_1, g_1, Psi_1, k, n_1)\n",
    "    output_s.append(s_k)\n",
    "    output_r.append(list_r_norm_k[-1])\n",
    "    \n",
    "output_s = np.array(output_s).T\n",
    "output_r = np.array(output_r).T\n",
    "    \n",
    "fig, axs = plt.subplots(2, 1, figsize=(15, 10))\n",
    "fig.suptitle('Signal processing 2')\n",
    "\n",
    "axs[0].imshow(output_s[:100, :])\n",
    "axs[0].set_xlabel(\"Number of sparse elements $K$\")\n",
    "axs[0].set_ylabel(\"Sparse representation $s$\")\n",
    "axs[0].set_title(\"Sparse representation $s$ for different maximum number of sparse elements $K$\")\n",
    "\n",
    "axs[1].plot(output_r)\n",
    "axs[1].set_xlabel(\"Number of sparse elements $K$\")\n",
    "axs[1].set_ylabel(\"Residual norm $L_{2}$\")\n",
    "axs[1].set_title(\"Residual norm $L_{2}$ for different maximum number of sparse elements $K$\")\n",
    "\n",
    "plt.show()"
   ]
  },
  {
   "cell_type": "code",
   "execution_count": null,
   "id": "42685e40",
   "metadata": {
    "deletable": false,
    "editable": false,
    "nbgrader": {
     "cell_type": "code",
     "checksum": "ad9ac4cfb6ccc8d9edae5428e56c2cd7",
     "grade": true,
     "grade_id": "a090",
     "locked": true,
     "points": 10,
     "schema_version": 3,
     "solution": false,
     "task": false
    }
   },
   "outputs": [],
   "source": [
    "# This cell contains hidden tests.\n",
    "\n",
    "np.testing.assert_array_equal(output_s.shape[1], 100)\n"
   ]
  },
  {
   "cell_type": "code",
   "execution_count": null,
   "id": "0e18bda2",
   "metadata": {
    "deletable": false,
    "editable": false,
    "nbgrader": {
     "cell_type": "code",
     "checksum": "0331c74cdc28ba13aaea8697b5775cf8",
     "grade": true,
     "grade_id": "a100",
     "locked": true,
     "points": 10,
     "schema_version": 3,
     "solution": false,
     "task": false
    }
   },
   "outputs": [],
   "source": [
    "# This cell contains hidden tests.\n",
    "\n",
    "np.testing.assert_array_equal(output_r.size, 100)\n"
   ]
  }
 ],
 "metadata": {
  "kernelspec": {
   "display_name": "Python 3 (ipykernel)",
   "language": "python",
   "name": "python3"
  },
  "language_info": {
   "codemirror_mode": {
    "name": "ipython",
    "version": 3
   },
   "file_extension": ".py",
   "mimetype": "text/x-python",
   "name": "python",
   "nbconvert_exporter": "python",
   "pygments_lexer": "ipython3",
   "version": "3.8.10"
  }
 },
 "nbformat": 4,
 "nbformat_minor": 5
}

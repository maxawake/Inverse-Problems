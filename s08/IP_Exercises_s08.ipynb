{
 "cells": [
  {
   "cell_type": "markdown",
   "id": "ecf3d23f",
   "metadata": {
    "deletable": false,
    "editable": false,
    "nbgrader": {
     "cell_type": "markdown",
     "checksum": "c18cb9e246b094287cafa45b28e4321a",
     "grade": false,
     "grade_id": "cell-49b24469f46dfeca",
     "locked": true,
     "schema_version": 3,
     "solution": false,
     "task": false
    }
   },
   "source": [
    "# Inverse Problems Exercises: s08 (non-physics)\n",
    "http://physics.medma.uni-heidelberg.de/cms/"
   ]
  },
  {
   "cell_type": "markdown",
   "id": "6e30cb0f",
   "metadata": {
    "deletable": false,
    "editable": false,
    "nbgrader": {
     "cell_type": "markdown",
     "checksum": "ad92e3ca1e7a9849d1e079c0ca5fdf9e",
     "grade": false,
     "grade_id": "cell-fa7322d20795c385",
     "locked": true,
     "schema_version": 3,
     "solution": false,
     "task": false
    }
   },
   "source": [
    "## Notes\n",
    "* Please **DO NOT** change the name of the .ipynb file. \n",
    "* Please put the .ipynb file directly into the .zip-archive without any intermediate folder."
   ]
  },
  {
   "cell_type": "markdown",
   "id": "bc6444af",
   "metadata": {
    "deletable": false,
    "editable": false,
    "nbgrader": {
     "cell_type": "markdown",
     "checksum": "577de3d815a5433df6d24b2edf6f4512",
     "grade": false,
     "grade_id": "cell-25297d00d0806932",
     "locked": true,
     "schema_version": 3,
     "solution": false,
     "task": false
    }
   },
   "source": [
    "## Please provide your personal information\n",
    "* full name (Name): "
   ]
  },
  {
   "cell_type": "markdown",
   "id": "72ad1b85",
   "metadata": {
    "deletable": false,
    "nbgrader": {
     "cell_type": "markdown",
     "checksum": "6ed66fd19bab168d80c4865c274aecd5",
     "grade": true,
     "grade_id": "cell-2d2bf14a246580e7",
     "locked": false,
     "points": 0,
     "schema_version": 3,
     "solution": true,
     "task": false
    }
   },
   "source": [
    "Maximilian Richter"
   ]
  },
  {
   "cell_type": "markdown",
   "id": "73002e5e",
   "metadata": {
    "deletable": false,
    "editable": false,
    "nbgrader": {
     "cell_type": "markdown",
     "checksum": "5ba8fcb9f7829323438d3cdfb04ac0e0",
     "grade": false,
     "grade_id": "cell-f1875ccbf1bb47f8",
     "locked": true,
     "schema_version": 3,
     "solution": false,
     "task": false
    }
   },
   "source": [
    "## S02b: Poisson models"
   ]
  },
  {
   "cell_type": "code",
   "execution_count": null,
   "id": "cd3c35d8",
   "metadata": {
    "deletable": false,
    "editable": false,
    "nbgrader": {
     "cell_type": "code",
     "checksum": "b87b7e5ec0d49490a2b18934b49102ae",
     "grade": false,
     "grade_id": "cell-83d8e161fbf2ff18",
     "locked": true,
     "schema_version": 3,
     "solution": false,
     "task": false
    }
   },
   "outputs": [],
   "source": [
    "import numpy as np\n",
    "import matplotlib.pyplot as plt"
   ]
  },
  {
   "cell_type": "code",
   "execution_count": null,
   "id": "f6901ec5",
   "metadata": {
    "deletable": false,
    "editable": false,
    "nbgrader": {
     "cell_type": "code",
     "checksum": "f072e65d628646db22761a513ec2621c",
     "grade": false,
     "grade_id": "cell-115db7e8c9253c5e",
     "locked": true,
     "schema_version": 3,
     "solution": false,
     "task": false
    }
   },
   "outputs": [],
   "source": [
    "file_gaussian = 'file_gaussian.npz'\n",
    "with np.load(file_gaussian) as data:\n",
    "    f_true = data['f_true']\n",
    "    A_psf = data['A_psf']"
   ]
  },
  {
   "cell_type": "markdown",
   "id": "c8cb0dab",
   "metadata": {
    "deletable": false,
    "editable": false,
    "nbgrader": {
     "cell_type": "markdown",
     "checksum": "753c5c475e6e6485d140190c27705384",
     "grade": false,
     "grade_id": "cell-0292d0e93c713d60",
     "locked": true,
     "schema_version": 3,
     "solution": false,
     "task": false
    }
   },
   "source": [
    "### Imaging model\n",
    "The imaging model can be represented by\n",
    "$$\n",
    "g = h \\otimes f_\\text{true}\n",
    "= Af_\\text{true}\n",
    "$$\n",
    "$$\n",
    "g' = \\operatorname{Poisson}(g).\n",
    "$$\n",
    "* $f_\\text{true}$ is the input signal\n",
    "* $h$ is the point spread function (kernel)\n",
    "* $\\otimes$ is the convolution operator\n",
    "* $A$ is the Toeplitz matrix of $h$\n",
    "* $\\operatorname{Poisson}(\\cdot)$ is the Poisson process operator\n",
    "* $g$ is the filtered signal\n",
    "* $g'$ is the noisy signal"
   ]
  },
  {
   "cell_type": "markdown",
   "id": "3199f716",
   "metadata": {
    "deletable": false,
    "editable": false,
    "nbgrader": {
     "cell_type": "markdown",
     "checksum": "caa1a2426c8997f75f6719e4022df070",
     "grade": false,
     "grade_id": "cell-e411c31d7cecb335",
     "locked": true,
     "schema_version": 3,
     "solution": false,
     "task": false
    }
   },
   "source": [
    "### Poisson noise\n",
    "\n",
    "$\\operatorname{Poisson}(\\cdot)$ adds the Poisson noise to the signal\n",
    "* Given the input signal $g$\n",
    "* Given the maximum number of deteced photons $p_{max}$\n",
    "* Generate the random variable $p \\sim \\operatorname{Pois}(\\lambda)$, with $\\lambda = g / max(g) \\cdot p_{max}$ (using `numpy.random.Generator.poisson()`)\n",
    "* Return the scaled random variable $g' = p / p_{max} \\cdot max(g)$\n",
    "* Implement the function `add_poisson_noise()` (using `numpy.array`)\n",
    "\n",
    "Create the noisy signals $g'$ as follows\n",
    "* Apply the Toeplitz matrix `A_psf` to `f_true`\n",
    "* add the noise with 3 different maximum detected photons $10^3$, $10^2$, $10^1$, respectively\n",
    "* Save the outputs in the variable `list_gn` (as `list` of `numpy.array`)\n",
    "\n",
    "Display the result\n",
    "* Plot the outputs in `list_gn` in the same order of the parameter options in the subplots of `axs`\n",
    "* Plot `f_true` in the last subplot of `axs`\n",
    "* Add proper titles to the subplots of `axs`"
   ]
  },
  {
   "cell_type": "code",
   "execution_count": null,
   "id": "cf6d2cb2",
   "metadata": {
    "deletable": false,
    "nbgrader": {
     "cell_type": "code",
     "checksum": "becc2240cf557ecab04917bc84bf6c83",
     "grade": true,
     "grade_id": "a005",
     "locked": false,
     "points": 5,
     "schema_version": 3,
     "solution": true,
     "task": false
    }
   },
   "outputs": [],
   "source": [
    "def add_poisson_noise(signal, num_photons):\n",
    "    \"\"\" Add Poisson distributed noise to the signal.\n",
    "    The maximum of the signal represents the given number of photons.\n",
    "\n",
    "    The signal is scaled using the number of photons and noise is added, afterwards\n",
    "    the signal is scaled back to its original range.\n",
    "\n",
    "    :param signal: Signal to be corrupted.\n",
    "    :param num_photons: Number of photons/observed interval of the Poisson distribution.\n",
    "    :returns: Noisy signal.\n",
    "    \"\"\"\n",
    "    lamb = signal/np.max(signal) * num_photons\n",
    "    rng = np.random.default_rng()\n",
    "    p = rng.poisson(lamb, size=g.shape)\n",
    "    return p/num_photons * np.max(signal)\n",
    "\n",
    "\n",
    "fig, axs = plt.subplots(4, 1, figsize = (15, 15))\n",
    "fig.suptitle('Poisson noise')\n",
    "\n",
    "g = A_psf @ f_true\n",
    "list_num_photons =  [1e3, 1e2, 1e1]\n",
    "list_gn = [add_poisson_noise(g, num_photons) for num_photons in list_num_photons]\n",
    "\n",
    "for i in range(3):\n",
    "    axs[i].plot(list_gn[i])\n",
    "    axs[i].set_title(\"$p_{{max}} = {}$\".format(list_num_photons[i]))\n",
    "axs[3].plot(f_true)\n",
    "axs[3].set_title(\"$f_{true}$\")"
   ]
  },
  {
   "cell_type": "code",
   "execution_count": null,
   "id": "3e342550",
   "metadata": {
    "deletable": false,
    "editable": false,
    "nbgrader": {
     "cell_type": "code",
     "checksum": "a8b0dec8effc44f7862ad9997bef0210",
     "grade": true,
     "grade_id": "a010",
     "locked": true,
     "points": 5,
     "schema_version": 3,
     "solution": false,
     "task": false
    }
   },
   "outputs": [],
   "source": [
    "# This cell contains hidden tests.\n"
   ]
  },
  {
   "cell_type": "code",
   "execution_count": null,
   "id": "d3274b82",
   "metadata": {
    "deletable": false,
    "editable": false,
    "nbgrader": {
     "cell_type": "code",
     "checksum": "e0c91313805b3177b675cb53983a3c61",
     "grade": true,
     "grade_id": "a015",
     "locked": true,
     "points": 5,
     "schema_version": 3,
     "solution": false,
     "task": false
    }
   },
   "outputs": [],
   "source": [
    "# This cell contains hidden tests.\n"
   ]
  },
  {
   "cell_type": "code",
   "execution_count": null,
   "id": "0c5abfe6",
   "metadata": {
    "deletable": false,
    "editable": false,
    "nbgrader": {
     "cell_type": "code",
     "checksum": "0261399fa2ac9d237077696991d33dbc",
     "grade": true,
     "grade_id": "a020",
     "locked": true,
     "points": 5,
     "schema_version": 3,
     "solution": false,
     "task": false
    }
   },
   "outputs": [],
   "source": [
    "# This cell contains hidden tests.\n"
   ]
  },
  {
   "cell_type": "markdown",
   "id": "70c7a6da",
   "metadata": {
    "deletable": false,
    "editable": false,
    "nbgrader": {
     "cell_type": "markdown",
     "checksum": "66fe31a298373f24be34705b27982cf0",
     "grade": false,
     "grade_id": "cell-86e480e83faad2c3",
     "locked": true,
     "schema_version": 3,
     "solution": false,
     "task": false
    }
   },
   "source": [
    "### Maximum Likelihood\n",
    "The objective function with the log likelihood is\n",
    "$$\n",
    "L(f) = \\sum_i (g'_i \\ln⁡(Af)_i - (Af)_i)\n",
    "$$\n",
    "To maximize the likelihood function (ML), the Expectation Maximization (EM) method is used, which is also known in the literature as Richardson-Lucy deconvolution. When the kernel $h$ is normalized to unity, the iterative solution is given by\n",
    "$$\n",
    "f^{(n+1)} = f^{(n)} \\circ A^T (\\frac{g'}{Af^{(n)}}),\n",
    "$$\n",
    "where $\\circ$ and $\\frac{\\cdot}{\\cdot}$ are element-wise multiplication and division, respectively.\n",
    "\n",
    "Implement the objective function\n",
    "* Given the estimate $f$\n",
    "* Given the system matrix $A$\n",
    "* Given the observed signal $g'$\n",
    "* Implement the function `objective_likelihood()` (using `numpy.array`)\n",
    "\n",
    "Implement the iterative expectation maximization updates\n",
    "* Given the system matrix $A$\n",
    "* Given the observed signal $g'$\n",
    "* Given the initial value $f^{(0)}$\n",
    "* Given the number of iterations $n$\n",
    "* Return the final value $f^{(n)}$ as the first output\n",
    "* Return the history array of objective values $[L(f^{(0)}), ..., L(f^{(n)})]$ as the second output\n",
    "* Implement the function `solve_ml_em()` (using `numpy.array`)\n",
    "  \n",
    "Solve the objective function\n",
    "* Calculate the solution by iterative expectation maximization updates for the noisy signals in `list_gn`\n",
    "* Note the kernel of `A_psf` is already normalized\n",
    "* Return the outputs with $f^{(0)}=1$, $n=10$\n",
    "* Save the solutions in the variable `list_f_mlem` (as `list` of `numpy.array`)\n",
    "* Save the corresponding objective value history in the variable `list_L_mlem` (as `list` of `numpy.array`)\n",
    "\n",
    "Display the result\n",
    "* Plot the outputs in `list_f_mlem` in the same order of the noisy signals in the subplots of `axs`\n",
    "* Plot the corresponding noisy signal in each subplot\n",
    "* Plot the input signal `f_true` in each subplot\n",
    "* Show the legend in each subplot\n",
    "* Show the case information in the titles to the subplots\n",
    "* Show the objective function value of each output in the titles to the subplots\n",
    "* Plot the arrays in `list_L_mlem` as solid lines in the same order of the noisy signals in the last subplot of `axs`\n",
    "* Show the legend in the last subplot\n",
    "* Add a proper title to the last subplot"
   ]
  },
  {
   "cell_type": "code",
   "execution_count": null,
   "id": "da3ee2e6",
   "metadata": {
    "deletable": false,
    "nbgrader": {
     "cell_type": "code",
     "checksum": "c834f2689f090cec04f0aea2edc623e9",
     "grade": true,
     "grade_id": "a030",
     "locked": false,
     "points": 10,
     "schema_version": 3,
     "solution": true,
     "task": false
    }
   },
   "outputs": [],
   "source": [
    "def objective_likelihood(f, A, gn):\n",
    "    \"\"\"\n",
    "    :param f: Current estimate of the signal.\n",
    "    :param A: 2d Matrix A of the linear problem.\n",
    "    :param gn: Observed signal.\n",
    "    :returns: Objective function value.\n",
    "    \"\"\"\n",
    "    Af = A @ f\n",
    "    return np.sum(gn * np.log(Af) - Af)\n",
    "\n",
    "def solve_ml_em(A, gn, f0, n):\n",
    "    \"\"\" \n",
    "    :param A: 2d Matrix A of the linear problem.\n",
    "    :param gn: Observed signal.\n",
    "    :param f0: Starting values for initializing the parameters f.\n",
    "    :param n: Number of iterations.\n",
    "    :returns: Final f values and a vector with the history of objective values.\n",
    "    \"\"\"\n",
    "    fn = f0\n",
    "    L = []\n",
    "    for i in range(n):\n",
    "        fn = fn * A.T @ (gn / (A@fn))\n",
    "        L.append(objective_likelihood(fn, A, gn))\n",
    "    return fn, L\n",
    "    \n",
    "fig, axs = plt.subplots(4, 1, figsize = (15, 15))\n",
    "fig.suptitle('MLEM solutions')\n",
    "\n",
    "f0 = np.ones(f_true.shape)\n",
    "n = 10\n",
    "list_f_mlem = []\n",
    "list_L_mlem = []\n",
    "\n",
    "for i in range(3):\n",
    "    fn, L = solve_ml_em(A_psf, list_gn[i], f0, n)\n",
    "    list_f_mlem.append(fn)\n",
    "    list_L_mlem.append(L)\n",
    "\n",
    "    axs[i].plot(list_f_mlem[i], label=\"$f^{(n)}$\")\n",
    "    axs[i].plot(list_gn[i], label=\"$g$\")\n",
    "    axs[i].plot(f_true, label=\"$f_{true}$\")\n",
    "    axs[i].set_title(\"$p_{{max}} = {}, L = {}$\".format(list_num_photons[i], np.round(list_L_mlem[i][-1])))\n",
    "    axs[i].legend()\n",
    "    axs[3].plot(list_L_mlem[i], label=\"$p_{{max}} = {}$\".format(list_num_photons[i]))\n",
    "axs[3].legend()"
   ]
  },
  {
   "cell_type": "code",
   "execution_count": null,
   "id": "9bc219e3",
   "metadata": {
    "deletable": false,
    "editable": false,
    "nbgrader": {
     "cell_type": "code",
     "checksum": "5697e4566c734df2316c651141776ea3",
     "grade": true,
     "grade_id": "a040",
     "locked": true,
     "points": 10,
     "schema_version": 3,
     "solution": false,
     "task": false
    }
   },
   "outputs": [],
   "source": [
    "# This cell contains hidden tests.\n"
   ]
  },
  {
   "cell_type": "code",
   "execution_count": null,
   "id": "45ef947d",
   "metadata": {
    "deletable": false,
    "editable": false,
    "nbgrader": {
     "cell_type": "code",
     "checksum": "49d91713b20fab801894a96355449410",
     "grade": true,
     "grade_id": "a050",
     "locked": true,
     "points": 10,
     "schema_version": 3,
     "solution": false,
     "task": false
    }
   },
   "outputs": [],
   "source": [
    "# This cell contains hidden tests.\n"
   ]
  },
  {
   "cell_type": "code",
   "execution_count": null,
   "id": "c99282dc",
   "metadata": {
    "deletable": false,
    "editable": false,
    "nbgrader": {
     "cell_type": "code",
     "checksum": "5da4633c5cecf41278dabd191ba2cbce",
     "grade": true,
     "grade_id": "a060",
     "locked": true,
     "points": 10,
     "schema_version": 3,
     "solution": false,
     "task": false
    }
   },
   "outputs": [],
   "source": [
    "# This cell contains hidden tests.\n"
   ]
  },
  {
   "cell_type": "markdown",
   "id": "29298f43",
   "metadata": {
    "deletable": false,
    "editable": false,
    "nbgrader": {
     "cell_type": "markdown",
     "checksum": "da5d71d0e276ebaba2b1a2c1560fcfef",
     "grade": false,
     "grade_id": "cell-f9f10f652172ac76",
     "locked": true,
     "schema_version": 3,
     "solution": false,
     "task": false
    }
   },
   "source": [
    "### Regularization with One-Step-Late\n",
    "Providing the difference matrix\n",
    "$$D' = \\begin{bmatrix} \n",
    "1 & 0 & 0 & 0 & ... & 0 & -1 \\\\\n",
    "-1 & 1 & 0 & 0 & ... & 0 & 0 \\\\\n",
    "0 & -1 & 1 & 0 & ... & 0 & 0 \\\\\n",
    "  &   &   & ... &   &   & \\\\\n",
    "0 & 0 & 0 & 0 & ... & -1 & 1 \\end{bmatrix},$$\n",
    "the Tikhonov regularization term is\n",
    "$$\n",
    "R(f) = \\|D'f\\|_2^2.\n",
    "$$\n",
    "The gradient of the Tikhonov regularization is\n",
    "$$\n",
    "\\nabla R(f) = D'^T D'f.\n",
    "$$\n",
    "With the One-Step-Late (OSL) method, the iterative solution with the regularization term is given by\n",
    "$$\n",
    "f^{(n+1)} = \\frac{f^{(n)}}{1 + \\lambda \\nabla R(f^{(n)})} \\circ A^T (\\frac{g'}{Af^{(n)}}),\n",
    "$$\n",
    "where $\\circ$ and $\\frac{\\cdot}{\\cdot}$ are element-wise multiplication and division, respectively.\n",
    "\n",
    "Implement the gradient of the Tikhonov regularization\n",
    "* Given the estimate $f$\n",
    "* Implement the function `gradient_tikhonov_reg()` (using `numpy.array`)\n",
    "\n",
    "Implement the iterative expectation maximization updates with OSL\n",
    "* Given the system matrix $A$\n",
    "* Given the observed signal $g'$\n",
    "* Given the regularization parameter $\\lambda$\n",
    "* Given the initial value $f^{(0)}$\n",
    "* Given the number of iterations $n$\n",
    "* Return the final value $f^{(n)}$ as the first output\n",
    "* Return the history array of objective values $[L(f^{(0)}), ..., L(f^{(n)})]$ as the second output\n",
    "* Implement the function `solve_ml_em_osl()` (using `numpy.array`)\n",
    "  \n",
    "Solve the objective function\n",
    "* Calculate the solution by iterative expectation maximization updates with OSL for the noisy signals in `list_gn`\n",
    "* Return the outputs with $\\lambda = 0.001$, $f^{(0)}=1$, $n=10$\n",
    "* Save the solutions in the variable `list_f_osl` (as `list` of `numpy.array`)\n",
    "* Save the corresponding objective value history in the variable `list_L_osl` (as `list` of `numpy.array`)\n",
    "\n",
    "Display the result\n",
    "* Plot the outputs in `list_f_osl` in the same order of the noisy signals in the subplots of `axs`\n",
    "* Plot the corresponding noisy signal in each subplot\n",
    "* Plot the input signal `f_true` in each subplot\n",
    "* Show the legend in each subplot\n",
    "* Show the case information in the titles to the subplots\n",
    "* Show the objective function value of each output in the titles to the subplots\n",
    "* Plot the arrays in `list_L_osl` as solid lines in the same order of the noisy signals in the last subplot of `axs`\n",
    "* Show the legend in the last subplot\n",
    "* Add a proper title to the last subplot"
   ]
  },
  {
   "cell_type": "code",
   "execution_count": null,
   "id": "76380966",
   "metadata": {
    "deletable": false,
    "nbgrader": {
     "cell_type": "code",
     "checksum": "a55a54942677602f3da1690a784d7691",
     "grade": true,
     "grade_id": "a070",
     "locked": false,
     "points": 10,
     "schema_version": 3,
     "solution": true,
     "task": false
    }
   },
   "outputs": [],
   "source": [
    "def get_diff_matrix(n):\n",
    "    \"\"\" Compute a matrix to calculate the difference along a vector of the size n\n",
    "    between two neighboring elements.\n",
    "\n",
    "    :param n: Size of the target vector.\n",
    "    :returns: Matrix with shape (n, n), which calculates the difference.\n",
    "    \"\"\"\n",
    "    diff_matrix = np.eye(n)\n",
    "    diff_matrix[1:,:-1] += np.eye(n-1)*-1\n",
    "    diff_matrix[0,n-1] = -1\n",
    "    return diff_matrix\n",
    "\n",
    "def gradient_tikhonov_reg(f):\n",
    "    \"\"\" \n",
    "    :param f: Current estimate of the signal.\n",
    "    :returns: Gradient value of the Tikhonov regularization term.\n",
    "    \"\"\"\n",
    "    D = get_diff_matrix(f.shape[0])\n",
    "    return D.T @ D @ f\n",
    "    \n",
    "def solve_ml_em_osl(A, gn, lb, f0, n):\n",
    "    \"\"\" \n",
    "    :param A: Matrix of the linear problem g = A⋅f\n",
    "    :param gn: Observed signal.\n",
    "    :param lb: Regularization strength.\n",
    "    :param f0: Starting values for initializing the parameters f.\n",
    "    :param n: Number of iterations.\n",
    "    :returns: Final f values and a vector with the history of objective values.\n",
    "    \"\"\"\n",
    "    fn = f0\n",
    "    L = []\n",
    "    for i in range(n):\n",
    "        fn = fn/(1 + lb*gradient_tikhonov_reg(fn)) * A.T @ (gn / (A@fn))\n",
    "        L.append(objective_likelihood(fn, A, gn))\n",
    "    return fn, L\n",
    "    \n",
    "fig, axs = plt.subplots(4, 1, figsize = (15, 15))\n",
    "fig.suptitle('OSL solutions')\n",
    "\n",
    "f0 = np.ones(f_true.shape)\n",
    "n = 10\n",
    "lb = 0.001\n",
    "list_f_osl = []\n",
    "list_L_osl = []\n",
    "\n",
    "for i in range(3):\n",
    "    fn, L = solve_ml_em_osl(A_psf, list_gn[i], lb, f0, n)\n",
    "    list_f_osl.append(fn)\n",
    "    list_L_osl.append(L)\n",
    "\n",
    "    axs[i].plot(list_f_osl[i], label=\"$f^{(n)}$\")\n",
    "    axs[i].plot(list_gn[i], label=\"$g$\")\n",
    "    axs[i].plot(f_true, label=\"$f_{true}$\")\n",
    "    axs[i].set_title(\"$p_{{max}} = {}, L = {}$\".format(list_num_photons[i], np.round(list_L_osl[i][-1])))\n",
    "    axs[i].legend()\n",
    "    axs[3].plot(list_L_osl[i], label=\"$p_{{max}} = {}$\".format(list_num_photons[i]))\n",
    "axs[3].legend()"
   ]
  },
  {
   "cell_type": "code",
   "execution_count": null,
   "id": "d4d07355",
   "metadata": {
    "deletable": false,
    "editable": false,
    "nbgrader": {
     "cell_type": "code",
     "checksum": "b4e45354138c8c07746fc1cbb316eb99",
     "grade": true,
     "grade_id": "a080",
     "locked": true,
     "points": 10,
     "schema_version": 3,
     "solution": false,
     "task": false
    }
   },
   "outputs": [],
   "source": [
    "# This cell contains hidden tests.\n"
   ]
  },
  {
   "cell_type": "code",
   "execution_count": null,
   "id": "825e5ca0",
   "metadata": {
    "deletable": false,
    "editable": false,
    "nbgrader": {
     "cell_type": "code",
     "checksum": "b8774e75ea2d4b29915c36240ad92936",
     "grade": true,
     "grade_id": "a090",
     "locked": true,
     "points": 10,
     "schema_version": 3,
     "solution": false,
     "task": false
    }
   },
   "outputs": [],
   "source": [
    "# This cell contains hidden tests.\n"
   ]
  },
  {
   "cell_type": "code",
   "execution_count": null,
   "id": "7c617d0f",
   "metadata": {
    "deletable": false,
    "editable": false,
    "nbgrader": {
     "cell_type": "code",
     "checksum": "eca477790fa0351483c9efd8cd04af54",
     "grade": true,
     "grade_id": "a100",
     "locked": true,
     "points": 10,
     "schema_version": 3,
     "solution": false,
     "task": false
    }
   },
   "outputs": [],
   "source": [
    "# This cell contains hidden tests.\n"
   ]
  }
 ],
 "metadata": {
  "kernelspec": {
   "display_name": "Python 3.8.5 ('base')",
   "language": "python",
   "name": "python3"
  },
  "language_info": {
   "codemirror_mode": {
    "name": "ipython",
    "version": 3
   },
   "file_extension": ".py",
   "mimetype": "text/x-python",
   "name": "python",
   "nbconvert_exporter": "python",
   "pygments_lexer": "ipython3",
   "version": "3.8.5"
  },
  "vscode": {
   "interpreter": {
    "hash": "efcf8a7d29568ee6aa19d18162f3216c75d115c7ce0b1cb4e80848b9a37f2ca8"
   }
  }
 },
 "nbformat": 4,
 "nbformat_minor": 5
}

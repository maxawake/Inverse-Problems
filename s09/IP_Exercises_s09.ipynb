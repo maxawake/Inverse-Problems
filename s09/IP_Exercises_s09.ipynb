{
 "cells": [
  {
   "cell_type": "markdown",
   "id": "ecf3d23f",
   "metadata": {
    "deletable": false,
    "editable": false,
    "nbgrader": {
     "cell_type": "markdown",
     "checksum": "8d57b1d7bb8c314a14eb773f0228b724",
     "grade": false,
     "grade_id": "cell-49b24469f46dfeca",
     "locked": true,
     "schema_version": 3,
     "solution": false,
     "task": false
    }
   },
   "source": [
    "# Inverse Problems Exercises: 2022s s09 (non-sc)\n",
    "https://www.umm.uni-heidelberg.de/miism/"
   ]
  },
  {
   "cell_type": "markdown",
   "id": "6e30cb0f",
   "metadata": {
    "deletable": false,
    "editable": false,
    "nbgrader": {
     "cell_type": "markdown",
     "checksum": "cec4cf272782838191548438284b86fc",
     "grade": false,
     "grade_id": "cell-fa7322d20795c385",
     "locked": true,
     "schema_version": 3,
     "solution": false,
     "task": false
    }
   },
   "source": [
    "## Notes\n",
    "* Please **DO NOT** change the name of the `.ipynb` file. \n",
    "* Please **DO NOT** import extra packages to solve the tasks. \n",
    "* Please put the `.ipynb` file directly into the `.zip` archive without any intermediate folder. "
   ]
  },
  {
   "cell_type": "markdown",
   "id": "bc6444af",
   "metadata": {
    "deletable": false,
    "editable": false,
    "nbgrader": {
     "cell_type": "markdown",
     "checksum": "577de3d815a5433df6d24b2edf6f4512",
     "grade": false,
     "grade_id": "cell-25297d00d0806932",
     "locked": true,
     "schema_version": 3,
     "solution": false,
     "task": false
    }
   },
   "source": [
    "## Please provide your personal information\n",
    "* full name (Name): "
   ]
  },
  {
   "cell_type": "markdown",
   "id": "72ad1b85",
   "metadata": {
    "deletable": false,
    "nbgrader": {
     "cell_type": "markdown",
     "checksum": "6ed66fd19bab168d80c4865c274aecd5",
     "grade": true,
     "grade_id": "cell-2d2bf14a246580e7",
     "locked": false,
     "points": 0,
     "schema_version": 3,
     "solution": true,
     "task": false
    }
   },
   "source": [
    "YOUR ANSWER HERE"
   ]
  },
  {
   "cell_type": "markdown",
   "id": "73002e5e",
   "metadata": {
    "deletable": false,
    "editable": false,
    "nbgrader": {
     "cell_type": "markdown",
     "checksum": "6688e480d8f33173276d09a9e3169d25",
     "grade": false,
     "grade_id": "cell-f1875ccbf1bb47f8",
     "locked": true,
     "schema_version": 3,
     "solution": false,
     "task": false
    }
   },
   "source": [
    "## P03: Regularization parameter estimation"
   ]
  },
  {
   "cell_type": "code",
   "execution_count": null,
   "id": "cd3c35d8",
   "metadata": {
    "deletable": false,
    "editable": false,
    "nbgrader": {
     "cell_type": "code",
     "checksum": "b87b7e5ec0d49490a2b18934b49102ae",
     "grade": false,
     "grade_id": "cell-83d8e161fbf2ff18",
     "locked": true,
     "schema_version": 3,
     "solution": false,
     "task": false
    }
   },
   "outputs": [],
   "source": [
    "import numpy as np\n",
    "import matplotlib.pyplot as plt"
   ]
  },
  {
   "cell_type": "code",
   "execution_count": null,
   "id": "33ba3427",
   "metadata": {
    "deletable": false,
    "editable": false,
    "nbgrader": {
     "cell_type": "code",
     "checksum": "c97b96c8431248cfa518374bbab0d234",
     "grade": false,
     "grade_id": "cell-b2b0620e96905b80",
     "locked": true,
     "schema_version": 3,
     "solution": false,
     "task": false
    }
   },
   "outputs": [],
   "source": [
    "file_gaussian = 'file_gaussian.npz'\n",
    "with np.load(file_gaussian) as data:\n",
    "    f_true = data['f_true']\n",
    "    A_psf = data['A_psf']\n",
    "    list_gn = data['list_gn']"
   ]
  },
  {
   "cell_type": "markdown",
   "id": "70c7a6da",
   "metadata": {
    "deletable": false,
    "editable": false,
    "nbgrader": {
     "cell_type": "markdown",
     "checksum": "27a4cb1c581c051eacf4c52176df4113",
     "grade": false,
     "grade_id": "cell-86e480e83faad2c3",
     "locked": true,
     "schema_version": 3,
     "solution": false,
     "task": false
    }
   },
   "source": [
    "### Imaging model\n",
    "The imaging model can be represented by\n",
    "$$\n",
    "g = h \\otimes f_\\text{true}\n",
    "= Af_\\text{true}\n",
    "= \\mathcal{F}^{-1}\\{ \\mathcal{F}\\{h\\} \\mathcal{F}\\{f_\\text{true}\\} \\},\n",
    "$$\n",
    "$$\n",
    "g' = g + \\epsilon.\n",
    "$$\n",
    "* $f_\\text{true}$ is the input signal\n",
    "* $h$ is the point spread function (kernel)\n",
    "* $\\otimes$ is the convolution operator\n",
    "* $A$ is the Toeplitz matrix of $h$\n",
    "* $\\mathcal{F}$ and $\\mathcal{F}^{-1}$ are the Fourier transform operator and inverse Fourier transform operator\n",
    "* $\\epsilon$ is the additive Gaussian noise\n",
    "* $g$ is the filtered signal\n",
    "* $g'$ is the noisy signal"
   ]
  },
  {
   "cell_type": "markdown",
   "id": "1c4de205",
   "metadata": {
    "deletable": false,
    "editable": false,
    "nbgrader": {
     "cell_type": "markdown",
     "checksum": "84f634534952377a9a818d6fab8146f3",
     "grade": false,
     "grade_id": "cell-e1d51b83c0489481",
     "locked": true,
     "schema_version": 3,
     "solution": false,
     "task": false
    }
   },
   "source": [
    "### Mean squared error\n",
    "Implement the mean squared error (MSE)\n",
    "$$\n",
    "\\operatorname{MSE}(f)=\\frac{1}{n}\\sum_{i=1}^n(f_i - f_{\\text{true}i})^2\n",
    "$$\n",
    "* Given the input signal $f$\n",
    "* Given the true signal $f_\\text{true}$\n",
    "* Implement the function `mean_squared_error()` (using `numpy.array`)"
   ]
  },
  {
   "cell_type": "code",
   "execution_count": null,
   "id": "ab475fc6",
   "metadata": {
    "deletable": false,
    "nbgrader": {
     "cell_type": "code",
     "checksum": "7e027881f758ceaf09595cfb68ab14a9",
     "grade": false,
     "grade_id": "cell-82dbcbcd7a00edfa",
     "locked": false,
     "schema_version": 3,
     "solution": true,
     "task": false
    }
   },
   "outputs": [],
   "source": [
    "def mean_squared_error(f, f_true):\n",
    "    \"\"\" Compute the mean squared error comparing to the true signal:\n",
    "\n",
    "    :param f: Input signal.\n",
    "    :param f_true: True signal.\n",
    "    :returns: Mean squared error.\n",
    "    \"\"\"\n",
    "# YOUR CODE HERE\n",
    "raise NotImplementedError()"
   ]
  },
  {
   "cell_type": "code",
   "execution_count": null,
   "id": "cffbc3bd",
   "metadata": {
    "deletable": false,
    "editable": false,
    "nbgrader": {
     "cell_type": "code",
     "checksum": "78f47b6ec4b90861355c1b30b9b62b76",
     "grade": true,
     "grade_id": "a001",
     "locked": true,
     "points": 1,
     "schema_version": 3,
     "solution": false,
     "task": false
    }
   },
   "outputs": [],
   "source": [
    "# This cell contains hidden tests.\n"
   ]
  },
  {
   "cell_type": "markdown",
   "id": "71072a7a",
   "metadata": {
    "deletable": false,
    "editable": false,
    "nbgrader": {
     "cell_type": "markdown",
     "checksum": "0deb53dee3f77ffc3a436713e34f76ca",
     "grade": false,
     "grade_id": "cell-3d6255e0ab1d0a8e",
     "locked": true,
     "schema_version": 3,
     "solution": false,
     "task": false
    }
   },
   "source": [
    "### Tikhonov regularization\n",
    "Implement the objective function with Tikhonov regularization\n",
    "$$\n",
    "L(f) = \\|Af - g'\\|_2^2 + \\lambda\\|D'f\\|_2^2,\n",
    "$$\n",
    "with the corresponding risidual norm $\\rho = \\|Af - g\\|_2^2$ and solution norm $\\eta = \\|D'f\\|_2^2$.\n",
    "\n",
    "* Given the input signal $f$\n",
    "* Given the system matrix $A$\n",
    "* Given the measurement $g'$\n",
    "* Given the regularization matrix $D'$\n",
    "* Given the regularization parameter $\\lambda$\n",
    "* Return the objective function value $L(f)$ as the first output\n",
    "* Return the risidual norm $\\rho$ as the second output\n",
    "* Return the solution norm $\\eta$ as the third output\n",
    "* Implement the function `objective_tikhonov()`\n",
    "\n",
    "Implement the closed form solution of the regularized objective function\n",
    "$$\n",
    "\\tilde f = (A^T A + \\lambda D'^T D')^{-1} A^T g' = A_\\lambda^{PI} g'\n",
    "$$\n",
    "* Given the system matrix $A$\n",
    "* Given the measurement $g'$\n",
    "* Given the regularization matrix $D'$\n",
    "* Given the regularization parameter $\\lambda$\n",
    "* Implement the function `solution_tikhonov()` (using `numpy.array`)"
   ]
  },
  {
   "cell_type": "code",
   "execution_count": null,
   "id": "60d0d037",
   "metadata": {
    "deletable": false,
    "nbgrader": {
     "cell_type": "code",
     "checksum": "9b6863b4b82ceae3f311e716a65c78d6",
     "grade": false,
     "grade_id": "cell-653a2b77dc633bae",
     "locked": false,
     "schema_version": 3,
     "solution": true,
     "task": false
    }
   },
   "outputs": [],
   "source": [
    "def objective_tikhonov(f, A, gn, D, lb):\n",
    "    \"\"\" Compute the objective function with Tikhonov regularization.\n",
    "    \n",
    "    :param f: Current estimate of the signal.\n",
    "    :param A: 2D matrix of the linear problem.\n",
    "    :param gn: Observed signal.\n",
    "    :param D: 2D matrix in the regularization term.\n",
    "    :param lb: Regularization parameter.\n",
    "    :returns: Objective function value, the corresponding residual norm and solution norm.\n",
    "    \"\"\"\n",
    "    # YOUR CODE HERE\n",
    "    raise NotImplementedError()\n",
    "    \n",
    "def solution_tikhonov(A, gn, D, lb):\n",
    "    \"\"\" Compute the estimate of the true signal with Tikhonov regularization.\n",
    "\n",
    "    Use a regularization term to suppress noise.\n",
    "\n",
    "    :param A: 2d matrix A of the linear problem.\n",
    "    :param gn: Observed signal.\n",
    "    :param D: 2D matrix in the regularization term.\n",
    "    :param lb: Regularization parameter.\n",
    "    :returns: Estimate of the true signal.\n",
    "    \"\"\"\n",
    "# YOUR CODE HERE\n",
    "raise NotImplementedError()"
   ]
  },
  {
   "cell_type": "code",
   "execution_count": null,
   "id": "12cab68d",
   "metadata": {
    "deletable": false,
    "editable": false,
    "nbgrader": {
     "cell_type": "code",
     "checksum": "da9ae20de101b2311097b642ee517116",
     "grade": true,
     "grade_id": "a004",
     "locked": true,
     "points": 3,
     "schema_version": 3,
     "solution": false,
     "task": false
    }
   },
   "outputs": [],
   "source": [
    "# This cell contains hidden tests.\n"
   ]
  },
  {
   "cell_type": "code",
   "execution_count": null,
   "id": "bcac6489",
   "metadata": {
    "deletable": false,
    "editable": false,
    "nbgrader": {
     "cell_type": "code",
     "checksum": "9d36d188ac2b25ddfb5e5c376b8fc52e",
     "grade": true,
     "grade_id": "a005",
     "locked": true,
     "points": 1,
     "schema_version": 3,
     "solution": false,
     "task": false
    }
   },
   "outputs": [],
   "source": [
    "# This cell contains hidden tests.\n"
   ]
  },
  {
   "cell_type": "markdown",
   "id": "873ff663",
   "metadata": {
    "deletable": false,
    "editable": false,
    "nbgrader": {
     "cell_type": "markdown",
     "checksum": "60e1ff6eb90538025d1d24fc178e9a8c",
     "grade": false,
     "grade_id": "cell-a8d4f98d6b96a133",
     "locked": true,
     "schema_version": 3,
     "solution": false,
     "task": false
    }
   },
   "source": [
    "### Basic solutions\n",
    "The minimal length solution is the solution with $D' = I$\n",
    "* Calculate the closed form solution for the noisy signals in `list_gn`\n",
    "* Return the outputs with $\\lambda$ of $0.01$\n",
    "* Save the solutions in the variable `list_f_closed` (as `list` of `numpy.array`)\n",
    "* Save the corresponding objective values in the variable `list_L_closed` (as `list` of scalars)\n",
    "\n",
    "Display the result\n",
    "* Plot the outputs in `list_f_closed` in the same order of the parameter options in the subplots of `axs`\n",
    "* Plot the corresponding noisy signal in each subplot\n",
    "* Plot the input signal `f_true` in each subplot\n",
    "* Show the legend in each subplot\n",
    "* Show the case information in the titles to the subplots\n",
    "* Show the mean squared error of each output comparing to `f_true` in the titles to the subplots\n",
    "* Show the objective function value of each output in the titles to the subplots"
   ]
  },
  {
   "cell_type": "code",
   "execution_count": null,
   "id": "8fe03b73",
   "metadata": {
    "deletable": false,
    "nbgrader": {
     "cell_type": "code",
     "checksum": "3068ceda3f31161e19496278aa509a9e",
     "grade": true,
     "grade_id": "a010",
     "locked": false,
     "points": 5,
     "schema_version": 3,
     "solution": true,
     "task": false
    }
   },
   "outputs": [],
   "source": [
    "fig, axs = plt.subplots(1, 3, figsize=(15, 5))\n",
    "fig.suptitle('Minimal length solution')\n",
    "\n",
    "# YOUR CODE HERE\n",
    "raise NotImplementedError()"
   ]
  },
  {
   "cell_type": "code",
   "execution_count": null,
   "id": "632193d9",
   "metadata": {
    "deletable": false,
    "editable": false,
    "nbgrader": {
     "cell_type": "code",
     "checksum": "e0c91313805b3177b675cb53983a3c61",
     "grade": true,
     "grade_id": "a015",
     "locked": true,
     "points": 5,
     "schema_version": 3,
     "solution": false,
     "task": false
    }
   },
   "outputs": [],
   "source": [
    "# This cell contains hidden tests.\n"
   ]
  },
  {
   "cell_type": "code",
   "execution_count": null,
   "id": "2916dfb3",
   "metadata": {
    "deletable": false,
    "editable": false,
    "nbgrader": {
     "cell_type": "code",
     "checksum": "0261399fa2ac9d237077696991d33dbc",
     "grade": true,
     "grade_id": "a020",
     "locked": true,
     "points": 5,
     "schema_version": 3,
     "solution": false,
     "task": false
    }
   },
   "outputs": [],
   "source": [
    "# This cell contains hidden tests.\n"
   ]
  },
  {
   "cell_type": "markdown",
   "id": "354b2098",
   "metadata": {
    "deletable": false,
    "editable": false,
    "nbgrader": {
     "cell_type": "markdown",
     "checksum": "864bb9ed6a60f4f3065e5023485bb708",
     "grade": false,
     "grade_id": "cell-b9b8cf0f98c41803",
     "locked": true,
     "schema_version": 3,
     "solution": false,
     "task": false
    }
   },
   "source": [
    "### L-curve\n",
    "\n",
    "See: https://www.sintef.no/globalassets/project/evitameeting/2005/lcurve.pdf\n",
    "\n",
    "The L-curve is a log-log plot of the solution norm versus the corresponding residual norm, i.e. $(\\rho, \\eta)$. \n",
    "The curvature of the L-curve, as a function of $\\lambda$, is given by\n",
    "$$\n",
    "\\kappa(\\lambda) = 2 \\frac{\\hat\\rho' \\hat\\eta'' - \\hat\\rho'' \\hat\\eta'}{((\\hat\\rho')^2 + (\\hat\\eta')^2) ^{3/2}},\n",
    "$$\n",
    "with\n",
    "$$\n",
    "\\hat\\rho = \\log\\rho,\\ \\ \\ \\ \\ \\hat\\eta = \\log\\eta,\n",
    "$$\n",
    "where $\\hat\\rho'$, $\\hat\\eta'$, $\\hat\\rho''$ and $\\hat\\eta''$ are the first and second derivatives of $\\hat\\rho$ and $\\hat\\eta$ with respect to $\\lambda$.\n",
    "* Given the arrays of $\\rho$, $\\eta$ and $\\lambda$\n",
    "* Return the curvature by the definition above (using `numpy.gradient()`)\n",
    "* Implement the function `calculate_curvature()`\n",
    "\n",
    "Process the signal\n",
    "* Use 100 different $\\lambda \\in [10^{-5}, 10]$ spaced evenly on a log scale\n",
    "* Calculate the closed form solution of the noisy signal with different $\\lambda$, respectively\n",
    "* Save the risidual norm of the closed form solutions in the variable `list_rho` (as `list` of `numpy.array`)\n",
    "* Save the solution norm of the closed form solutions in the variable `list_eta` (as `list` of `numpy.array`)\n",
    "* Save the curvature of the L-curve in the variable `list_curvature` (as `list` of `numpy.array`)\n",
    "* Save the mean squared error of the closed form solutions in the variable `list_mse` (as `list` of `numpy.array`)\n",
    "* Save the $\\lambda$ corresponding to the maximum curvature in the variable `list_lambda_l` (as `list`)\n",
    "\n",
    "Display the result\n",
    "* Show the cases of the same noisy signal in the same subplot column of `axs`\n",
    "* In the first subplot row, show the scatter points of the L-curve with the residual norm in the $x$ axis and the solution norm in the $y$ axis both in log scaling\n",
    "* In the first subplot row, encode the color of the scatter points by the $\\lambda$ value\n",
    "* In the first subplot row, show the color bar\n",
    "* In the second subplot row, show the curvature of the L-curve as a function of $\\lambda$ with $\\lambda$ in log scaling\n",
    "* In the third subplot row, show the mean squared error as a function of $\\lambda$ with $\\lambda$ in log scaling\n",
    "* Highlight the case corresponding to the maximum curvature by a red point with a legend label in all subplots\n",
    "* Add proper labels to the subplots\n",
    "* Add proper titles to the subplots"
   ]
  },
  {
   "cell_type": "code",
   "execution_count": null,
   "id": "5d282e40",
   "metadata": {
    "deletable": false,
    "nbgrader": {
     "cell_type": "code",
     "checksum": "03981a0f442c5da50b80ded528fa3101",
     "grade": true,
     "grade_id": "a035",
     "locked": false,
     "points": 15,
     "schema_version": 3,
     "solution": true,
     "task": false
    }
   },
   "outputs": [],
   "source": [
    "def calculate_cuvature(rho_values, eta_values, lambda_values):\n",
    "    \"\"\" Compute the curvature of the L-curve\n",
    "\n",
    "    :param rho_values: Array of rho values.\n",
    "    :param eta_values: Array of eta values.\n",
    "    :param lambda_values: Array of lambda values.\n",
    "    :returns: Array of the curvature values.\n",
    "    \"\"\"\n",
    "# YOUR CODE HERE\n",
    "raise NotImplementedError()\n",
    "\n",
    "fig, axs = plt.subplots(3, 3, figsize=(15, 15))\n",
    "fig.suptitle('L-curve')\n",
    "\n",
    "# YOUR CODE HERE\n",
    "raise NotImplementedError()"
   ]
  },
  {
   "cell_type": "code",
   "execution_count": null,
   "id": "0cd93416",
   "metadata": {
    "deletable": false,
    "editable": false,
    "nbgrader": {
     "cell_type": "code",
     "checksum": "0a298fd71dc8e1637d20f2e524b34272",
     "grade": true,
     "grade_id": "a040",
     "locked": true,
     "points": 5,
     "schema_version": 3,
     "solution": false,
     "task": false
    }
   },
   "outputs": [],
   "source": [
    "# This cell contains hidden tests.\n",
    "\n",
    "lb_steps_REF = 100\n",
    "\n",
    "np.testing.assert_array_equal(len(list_rho), len(list_gn))\n",
    "\n",
    "for j, rho_j in enumerate(list_rho):\n",
    "    print(j, end = ' ')\n",
    "    np.testing.assert_array_equal(rho_j.size, lb_steps_REF)\n"
   ]
  },
  {
   "cell_type": "code",
   "execution_count": null,
   "id": "12d5059c",
   "metadata": {
    "deletable": false,
    "editable": false,
    "nbgrader": {
     "cell_type": "code",
     "checksum": "c63b23be99584decea64839bc5e23316",
     "grade": true,
     "grade_id": "a045",
     "locked": true,
     "points": 5,
     "schema_version": 3,
     "solution": false,
     "task": false
    }
   },
   "outputs": [],
   "source": [
    "# This cell contains hidden tests.\n",
    "\n",
    "lb_steps_REF = 100\n",
    "\n",
    "np.testing.assert_array_equal(len(list_eta), len(list_gn))\n",
    "\n",
    "for j, eta_j in enumerate(list_eta):\n",
    "    print(j, end = ' ')\n",
    "    np.testing.assert_array_equal(eta_j.size, lb_steps_REF)\n"
   ]
  },
  {
   "cell_type": "code",
   "execution_count": null,
   "id": "589d3b0b",
   "metadata": {
    "deletable": false,
    "editable": false,
    "nbgrader": {
     "cell_type": "code",
     "checksum": "d4fe52a8d0c638af6e2dc9a37a3f08f1",
     "grade": true,
     "grade_id": "a050",
     "locked": true,
     "points": 5,
     "schema_version": 3,
     "solution": false,
     "task": false
    }
   },
   "outputs": [],
   "source": [
    "# This cell contains hidden tests.\n",
    "\n",
    "lb_steps_REF = 100\n",
    "\n",
    "np.testing.assert_array_equal(len(list_curvature), len(list_gn))\n",
    "\n",
    "for j, curvature_j in enumerate(list_curvature):\n",
    "    print(j, end = ' ')\n",
    "    np.testing.assert_array_equal(curvature_j.size, lb_steps_REF)\n"
   ]
  },
  {
   "cell_type": "code",
   "execution_count": null,
   "id": "ebe33aec",
   "metadata": {
    "deletable": false,
    "editable": false,
    "nbgrader": {
     "cell_type": "code",
     "checksum": "11920fb9616bda5a12327ef9481af282",
     "grade": true,
     "grade_id": "a055",
     "locked": true,
     "points": 5,
     "schema_version": 3,
     "solution": false,
     "task": false
    }
   },
   "outputs": [],
   "source": [
    "# This cell contains hidden tests.\n",
    "\n",
    "lb_steps_REF = 100\n",
    "\n",
    "np.testing.assert_array_equal(len(list_mse), len(list_gn))\n",
    "\n",
    "for j, mse_j in enumerate(list_mse):\n",
    "    print(j, end = ' ')\n",
    "    np.testing.assert_array_equal(mse_j.size, lb_steps_REF)\n"
   ]
  },
  {
   "cell_type": "code",
   "execution_count": null,
   "id": "2c006731",
   "metadata": {
    "deletable": false,
    "editable": false,
    "nbgrader": {
     "cell_type": "code",
     "checksum": "b1cf855bb47b5865063019532c11f691",
     "grade": true,
     "grade_id": "a060",
     "locked": true,
     "points": 5,
     "schema_version": 3,
     "solution": false,
     "task": false
    }
   },
   "outputs": [],
   "source": [
    "# This cell contains hidden tests.\n",
    "\n",
    "np.testing.assert_array_equal(len(list_lambda_l), len(list_gn))\n"
   ]
  },
  {
   "cell_type": "markdown",
   "id": "684f7125",
   "metadata": {
    "deletable": false,
    "editable": false,
    "nbgrader": {
     "cell_type": "markdown",
     "checksum": "8bad20021e07d62b709cc1e4cbe7b7d3",
     "grade": false,
     "grade_id": "cell-d8fd716a8c6adda8",
     "locked": true,
     "schema_version": 3,
     "solution": false,
     "task": false
    }
   },
   "source": [
    "### Normalized cumulative periodogram\n",
    "\n",
    "See https://link.springer.com/article/10.1007/s10543-006-0042-7\n",
    "\n",
    "* Given the input signal $f$\n",
    "* Given the system matrix $A$\n",
    "* Given the measurement $g'$\n",
    "* Calculate the normalized cumulative periodogram (NCP) according to the paper (using `numpy.fft.fft()`)\n",
    "* Implement the function `compute_ncp()`\n",
    "\n",
    "Process the signal\n",
    "* Use 20 different $\\lambda \\in [10^{-5}, 10]$ spaced evenly on a log scale\n",
    "* Calculate the closed form solution of the noisy signal with different $\\lambda$, respectively\n",
    "* Save the normalized cumulative periodogram (NCP) in the variable `list_ncp` (as `list` of `numpy.array`)\n",
    "* Save the NCP error as the Euclidean distance between the estimated NCP and the theoretical NCP of additive Gaussian noise in the variable `list_error` (as `list` of `numpy.array`)\n",
    "* Save the mean squared error of the closed form solutions in the variable `list_mse` (as `list` of `numpy.array`)\n",
    "* Save the $\\lambda$ corresponding to the minimum NCP error in the variable `list_lambda_l` (as `list`)\n",
    "\n",
    "Display the result\n",
    "* Show the cases of the same noisy signal in the same subplot column of `axs`\n",
    "* In the first subplot row, show NCP curves\n",
    "* In the first subplot row, show the legend\n",
    "* In the second subplot row, show the NCP error as a function of $\\lambda$ with $\\lambda$ in log scaling\n",
    "* Highlight the case corresponding to the minimum NCP error by a red point with a legend label in all subplots\n",
    "* Add proper labels to the subplots\n",
    "* Add proper titles to the subplots"
   ]
  },
  {
   "cell_type": "code",
   "execution_count": null,
   "id": "8884ed09",
   "metadata": {
    "deletable": false,
    "nbgrader": {
     "cell_type": "code",
     "checksum": "1b9424ab73284c335ad3d31a3644885e",
     "grade": true,
     "grade_id": "cell-06d478783038b592",
     "locked": false,
     "points": 40,
     "schema_version": 3,
     "solution": true,
     "task": false
    }
   },
   "outputs": [],
   "source": [
    "def compute_ncp(f, A, gn):\n",
    "    \"\"\"Compute the Normalized cummulative periodigram (NCP) described by:\n",
    "\n",
    "    P.C. Hansen et al: Exploiting residual information in the parameter choice\n",
    "    for discrete ill-posed problems. Num. Math. (2006), 46: 41-59\n",
    "\n",
    "    :param f: Current estimate of the signal.\n",
    "    :param A: 2D matrix of the linear problem.\n",
    "    :param gn: Observed signal.\n",
    "    :return: NCP.\n",
    "    \"\"\"\n",
    "# YOUR CODE HERE\n",
    "raise NotImplementedError()\n",
    "\n",
    "fig, axs = plt.subplots(2, 3, figsize=(15, 10))\n",
    "fig.suptitle('Normalized cumulative periodogram')\n",
    "\n",
    "# YOUR CODE HERE\n",
    "raise NotImplementedError()"
   ]
  },
  {
   "cell_type": "code",
   "execution_count": null,
   "id": "69253925",
   "metadata": {
    "deletable": false,
    "editable": false,
    "nbgrader": {
     "cell_type": "code",
     "checksum": "b9d181a0305454db5a38938405fd194f",
     "grade": true,
     "grade_id": "cell-bdfc03bf5e039322",
     "locked": true,
     "points": 5,
     "schema_version": 3,
     "solution": false,
     "task": false
    }
   },
   "outputs": [],
   "source": [
    "# This cell contains hidden tests.\n",
    "\n",
    "lb_steps_REF = 20\n",
    "\n",
    "np.testing.assert_array_equal(len(list_ncp), len(list_gn))\n",
    "\n",
    "for j, ncp_j in enumerate(list_ncp):\n",
    "    print(j, end = ' ')\n",
    "    np.testing.assert_array_less(0, ncp_j.size)\n"
   ]
  },
  {
   "cell_type": "code",
   "execution_count": null,
   "id": "43236b9b",
   "metadata": {
    "deletable": false,
    "editable": false,
    "nbgrader": {
     "cell_type": "code",
     "checksum": "30d97df8bec9319e3e664b8600697e93",
     "grade": true,
     "grade_id": "cell-1e431ea3239d7e77",
     "locked": true,
     "points": 5,
     "schema_version": 3,
     "solution": false,
     "task": false
    }
   },
   "outputs": [],
   "source": [
    "# This cell contains hidden tests.\n",
    "\n",
    "lb_steps_REF = 20\n",
    "\n",
    "np.testing.assert_array_equal(len(list_error), len(list_gn))\n",
    "\n",
    "for j, error_j in enumerate(list_error):\n",
    "    print(j, end = ' ')\n",
    "    np.testing.assert_array_equal(error_j.size, lb_steps_REF)\n"
   ]
  },
  {
   "cell_type": "code",
   "execution_count": null,
   "id": "a52cedeb",
   "metadata": {
    "deletable": false,
    "editable": false,
    "nbgrader": {
     "cell_type": "code",
     "checksum": "d9b429224e546ece60bf58fef51867fa",
     "grade": true,
     "grade_id": "cell-36a939e78827e876",
     "locked": true,
     "points": 5,
     "schema_version": 3,
     "solution": false,
     "task": false
    }
   },
   "outputs": [],
   "source": [
    "# This cell contains hidden tests.\n",
    "\n",
    "lb_steps_REF = 20\n",
    "\n",
    "np.testing.assert_array_equal(len(list_mse), len(list_gn))\n",
    "\n",
    "for j, mse_j in enumerate(list_mse):\n",
    "    print(j, end = ' ')\n",
    "    np.testing.assert_array_equal(mse_j.size, lb_steps_REF)\n"
   ]
  },
  {
   "cell_type": "code",
   "execution_count": null,
   "id": "f3dce117",
   "metadata": {
    "deletable": false,
    "editable": false,
    "nbgrader": {
     "cell_type": "code",
     "checksum": "140f37232bd0214280aed9fbc029f762",
     "grade": true,
     "grade_id": "cell-7d701ab1fa55de3f",
     "locked": true,
     "points": 5,
     "schema_version": 3,
     "solution": false,
     "task": false
    }
   },
   "outputs": [],
   "source": [
    "# This cell contains hidden tests.\n",
    "\n",
    "np.testing.assert_array_equal(len(list_lambda_ncp), len(list_gn))\n"
   ]
  }
 ],
 "metadata": {
  "kernelspec": {
   "display_name": "Python 3 (ipykernel)",
   "language": "python",
   "name": "python3"
  },
  "language_info": {
   "codemirror_mode": {
    "name": "ipython",
    "version": 3
   },
   "file_extension": ".py",
   "mimetype": "text/x-python",
   "name": "python",
   "nbconvert_exporter": "python",
   "pygments_lexer": "ipython3",
   "version": "3.9.10"
  }
 },
 "nbformat": 4,
 "nbformat_minor": 5
}

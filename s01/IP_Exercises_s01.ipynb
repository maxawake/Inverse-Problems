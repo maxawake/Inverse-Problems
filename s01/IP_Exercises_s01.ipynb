{
 "cells": [
  {
   "cell_type": "markdown",
   "id": "ecf3d23f",
   "metadata": {
    "deletable": false,
    "editable": false,
    "nbgrader": {
     "cell_type": "markdown",
     "checksum": "85c35ddca87ebf591f0c4c2a2a7eb6c8",
     "grade": false,
     "grade_id": "cell-49b24469f46dfeca",
     "locked": true,
     "schema_version": 3,
     "solution": false,
     "task": false
    }
   },
   "source": [
    "# Inverse Problems Exercises: 2022s s01 (all)\n",
    "https://www.umm.uni-heidelberg.de/miism/"
   ]
  },
  {
   "cell_type": "markdown",
   "id": "57446c02",
   "metadata": {
    "deletable": false,
    "editable": false,
    "nbgrader": {
     "cell_type": "markdown",
     "checksum": "ec30fdadd80fb09b2195443ee0c7eb06",
     "grade": false,
     "grade_id": "cell-603665f088b8484f",
     "locked": true,
     "schema_version": 3,
     "solution": false,
     "task": false
    }
   },
   "source": [
    "## Notes\n",
    "* Please **DO NOT** change the name of the `.ipynb` file. \n",
    "* Please **DO NOT** import extra packages to solve the tasks. \n",
    "* Please put the `.ipynb` file directly into the `.zip` archive without any intermediate folder. "
   ]
  },
  {
   "cell_type": "markdown",
   "id": "bc6444af",
   "metadata": {
    "deletable": false,
    "editable": false,
    "nbgrader": {
     "cell_type": "markdown",
     "checksum": "577de3d815a5433df6d24b2edf6f4512",
     "grade": false,
     "grade_id": "cell-25297d00d0806932",
     "locked": true,
     "schema_version": 3,
     "solution": false,
     "task": false
    }
   },
   "source": [
    "## Please provide your personal information\n",
    "* full name (Name): Maximilian Richter"
   ]
  },
  {
   "cell_type": "markdown",
   "id": "7d5a7d69",
   "metadata": {
    "deletable": false,
    "nbgrader": {
     "cell_type": "markdown",
     "checksum": "6ed66fd19bab168d80c4865c274aecd5",
     "grade": true,
     "grade_id": "cell-2d2bf14a246580e7",
     "locked": false,
     "points": 0,
     "schema_version": 3,
     "solution": true,
     "task": false
    }
   },
   "source": [
    "YOUR ANSWER HERE"
   ]
  },
  {
   "cell_type": "markdown",
   "id": "658ad44f",
   "metadata": {
    "deletable": false,
    "editable": false,
    "nbgrader": {
     "cell_type": "markdown",
     "checksum": "02651059b9a5cfd67ec1f8fac81500ab",
     "grade": false,
     "grade_id": "cell-3a94214da89ef99b",
     "locked": true,
     "schema_version": 3,
     "solution": false,
     "task": false
    }
   },
   "source": [
    "## I05: Parabolic trajectory problem"
   ]
  },
  {
   "cell_type": "code",
   "execution_count": 1,
   "id": "67e0f887",
   "metadata": {
    "deletable": false,
    "editable": false,
    "nbgrader": {
     "cell_type": "code",
     "checksum": "0bc440df1cd7f39b604bbdef5afa11eb",
     "grade": false,
     "grade_id": "cell-61d15f6490903e5c",
     "locked": true,
     "schema_version": 3,
     "solution": false,
     "task": false
    }
   },
   "outputs": [],
   "source": [
    "import numpy as np\n",
    "import matplotlib.pyplot as plt"
   ]
  },
  {
   "cell_type": "markdown",
   "id": "6d5ba9b3",
   "metadata": {
    "deletable": false,
    "editable": false,
    "nbgrader": {
     "cell_type": "markdown",
     "checksum": "47e474ccce8803ff47edb704a0bc3aab",
     "grade": false,
     "grade_id": "cell-09201994caa3fe91",
     "locked": true,
     "schema_version": 3,
     "solution": false,
     "task": false
    }
   },
   "source": [
    "### Forward problem\n",
    "Assume that we observe a ball thrown perpendicular to the earth's\n",
    "surface to the sky. By ignoring friction, we can write the equation of motion\n",
    "as the height $g$ as a function of time $t$ as \n",
    "$$g_i = g(t_i) = f_0 + f_1 t_i + \\frac{1}{2} f_2 t_i^2 = \\begin{bmatrix} 1 & t_i & \\frac{1}{2} t_i^2 \\end{bmatrix} \\begin{bmatrix} f_0 \\\\ f_1 \\\\ f_2 \\end{bmatrix} .$$\n",
    "\n",
    "* Given $f_\\text{true} = \\begin{bmatrix} f_0 \\\\ f_1 \\\\ f_2 \\end{bmatrix} = \\begin{bmatrix} 1 \\\\ 25 \\\\ -4 \\end{bmatrix}$\n",
    "* Given $t_i = (0, 1, ..., 8)$\n",
    "* Calculate $g_i = g(t_i)$\n",
    "* Save the output in the variables `f_true`, `t` and `g`, respectivly (as `numpy.array`)\n",
    "* Plot `g` versus `t` in the axes `ax`"
   ]
  },
  {
   "cell_type": "code",
   "execution_count": 31,
   "id": "100ede1a",
   "metadata": {
    "deletable": false,
    "nbgrader": {
     "cell_type": "code",
     "checksum": "3ea60d15c9ae61422aad46679753db1b",
     "grade": false,
     "grade_id": "cell-d81a692db9c8c237",
     "locked": false,
     "schema_version": 3,
     "solution": true,
     "task": false
    }
   },
   "outputs": [
    {
     "data": {
      "text/plain": [
       "[<matplotlib.lines.Line2D at 0x1e227ac6af0>]"
      ]
     },
     "execution_count": 31,
     "metadata": {},
     "output_type": "execute_result"
    },
    {
     "data": {
      "image/png": "[encoded data removed]",
      "text/plain": [
       "<Figure size 432x288 with 1 Axes>"
      ]
     },
     "metadata": {
      "needs_background": "light"
     },
     "output_type": "display_data"
    }
   ],
   "source": [
    "f_true = np.array([1, 25, -4])\n",
    "g_i = lambda t: np.array([1, t, 0.5*t**2])@f_true\n",
    "t = np.arange(0,9)\n",
    "g = np.array([g_i(t_i) for t_i in t])\n",
    "\n",
    "fig, ax = plt.subplots()  # Create a figure and an axes.\n",
    "\n",
    "ax.plot(t, g)"
   ]
  },
  {
   "cell_type": "code",
   "execution_count": 32,
   "id": "63f730b1",
   "metadata": {
    "deletable": false,
    "editable": false,
    "nbgrader": {
     "cell_type": "code",
     "checksum": "9229cdc4fff344a203ca6c26d5cf24a2",
     "grade": true,
     "grade_id": "a010",
     "locked": true,
     "points": 10,
     "schema_version": 3,
     "solution": false,
     "task": false
    }
   },
   "outputs": [],
   "source": [
    "# This cell contains hidden tests.\n",
    "\n"
   ]
  },
  {
   "cell_type": "code",
   "execution_count": 33,
   "id": "a66e4b5d",
   "metadata": {
    "deletable": false,
    "editable": false,
    "nbgrader": {
     "cell_type": "code",
     "checksum": "1baebacf27f7ec8062e56282f5574280",
     "grade": true,
     "grade_id": "a020",
     "locked": true,
     "points": 10,
     "schema_version": 3,
     "solution": false,
     "task": false
    }
   },
   "outputs": [],
   "source": [
    "# This cell contains hidden tests.\n"
   ]
  },
  {
   "cell_type": "markdown",
   "id": "27d43857",
   "metadata": {
    "deletable": false,
    "editable": false,
    "nbgrader": {
     "cell_type": "markdown",
     "checksum": "f33217a4d474eff9a9d2dfadd8d35f50",
     "grade": false,
     "grade_id": "cell-893663236d59c707",
     "locked": true,
     "schema_version": 3,
     "solution": false,
     "task": false
    }
   },
   "source": [
    "### Inverse problem\n",
    "Collecting all measurements, we obtain the system of equations\n",
    "$$g = \\begin{bmatrix} g_1 \\\\ ... \\\\ g_n \\end{bmatrix}\n",
    "= \\begin{bmatrix} 1 & t_1 & \\frac{1}{2} t_1^2 \\\\ ... & ... & ... \\\\ 1 & t_n & \\frac{1}{2} t_n^2 \\end{bmatrix}\n",
    "\\begin{bmatrix} f_0 \\\\ f_1 \\\\ f_2 \\end{bmatrix}\n",
    "= A f .$$\n",
    "When the number of measurements is the same as the number of parameters, $A$ is square. The solution involves the inverse as \n",
    "$$\\hat{f} = A^{-1} g .$$\n",
    "\n",
    "* Take the last 3 elements from `t` and `g`\n",
    "* Calculate $A$ and $\\hat{f}$ \n",
    "* Save the output in the variables `A` and `f_est`, respectivly (as `numpy.array`)"
   ]
  },
  {
   "cell_type": "code",
   "execution_count": 34,
   "id": "dca90f8b",
   "metadata": {
    "deletable": false,
    "nbgrader": {
     "cell_type": "code",
     "checksum": "aaf12634b9f191e62ad656320f018daf",
     "grade": false,
     "grade_id": "cell-1291280e9a1600b9",
     "locked": false,
     "schema_version": 3,
     "solution": true,
     "task": false
    }
   },
   "outputs": [],
   "source": [
    "t_new = t[-3:]\n",
    "g_new = g[-3:]\n",
    "\n",
    "A = np.array([[1, t_i, 0.5*t_i**2] for t_i in t_new])\n",
    "f_est = np.linalg.inv(A)@g_new"
   ]
  },
  {
   "cell_type": "code",
   "execution_count": 35,
   "id": "fef90115",
   "metadata": {
    "deletable": false,
    "editable": false,
    "nbgrader": {
     "cell_type": "code",
     "checksum": "f70b08d43eaa1febab08e29498daa515",
     "grade": true,
     "grade_id": "a030",
     "locked": true,
     "points": 10,
     "schema_version": 3,
     "solution": false,
     "task": false
    }
   },
   "outputs": [],
   "source": [
    "# This cell contains hidden tests.\n"
   ]
  },
  {
   "cell_type": "code",
   "execution_count": 36,
   "id": "a2c86519",
   "metadata": {
    "deletable": false,
    "editable": false,
    "nbgrader": {
     "cell_type": "code",
     "checksum": "f98684401fd7b7e93f5ace3678ce8a09",
     "grade": true,
     "grade_id": "a040",
     "locked": true,
     "points": 10,
     "schema_version": 3,
     "solution": false,
     "task": false
    }
   },
   "outputs": [
    {
     "name": "stdout",
     "output_type": "stream",
     "text": [
      "[[ 1.   6.  18. ]\n",
      " [ 1.   7.  24.5]\n",
      " [ 1.   8.  32. ]]\n",
      "[ 1. 25. -4.]\n"
     ]
    }
   ],
   "source": [
    "# This cell contains tests.\n",
    "\n",
    "print(A)\n",
    "print(f_est)"
   ]
  },
  {
   "cell_type": "markdown",
   "id": "6f0ce3f6",
   "metadata": {
    "deletable": false,
    "editable": false,
    "nbgrader": {
     "cell_type": "markdown",
     "checksum": "be2b34dff7cb37697effbba0deb69d4f",
     "grade": false,
     "grade_id": "cell-cbe4db93698a1f95",
     "locked": true,
     "schema_version": 3,
     "solution": false,
     "task": false
    }
   },
   "source": [
    "### Optimal approximation\n",
    "When the number of measurements is larger than the number of parameters, $A$ is generally not invertible. The solution involves the pseudo-inverse as \n",
    "$$\\hat{f} = (A^T A)^{-1} A^T g = A^{PI} g .$$\n",
    "\n",
    "* Take all elements from `t` and `g`\n",
    "* Calculate $A$ and $\\hat{f}$ \n",
    "* Save the output in the variables `A` and `f_est`, respectivly (as `numpy.array`)"
   ]
  },
  {
   "cell_type": "code",
   "execution_count": 37,
   "id": "2bd93fdb",
   "metadata": {
    "deletable": false,
    "nbgrader": {
     "cell_type": "code",
     "checksum": "8f1b67b4ba4e5cd9b85feb95d1e29ef8",
     "grade": false,
     "grade_id": "cell-86bafeafe76ec8d3",
     "locked": false,
     "schema_version": 3,
     "solution": true,
     "task": false
    }
   },
   "outputs": [],
   "source": [
    "A = np.array([[1, t_i, 0.5*t_i**2] for t_i in t])\n",
    "f_est = np.linalg.inv(A.T@A)@A.T@g"
   ]
  },
  {
   "cell_type": "code",
   "execution_count": 38,
   "id": "e33aed25",
   "metadata": {
    "deletable": false,
    "editable": false,
    "nbgrader": {
     "cell_type": "code",
     "checksum": "49d91713b20fab801894a96355449410",
     "grade": true,
     "grade_id": "a050",
     "locked": true,
     "points": 10,
     "schema_version": 3,
     "solution": false,
     "task": false
    }
   },
   "outputs": [],
   "source": [
    "# This cell contains hidden tests.\n"
   ]
  },
  {
   "cell_type": "code",
   "execution_count": 39,
   "id": "5424c30f",
   "metadata": {
    "deletable": false,
    "editable": false,
    "nbgrader": {
     "cell_type": "code",
     "checksum": "55fc712963b4e15b71c269cb969de187",
     "grade": true,
     "grade_id": "a060",
     "locked": true,
     "points": 10,
     "schema_version": 3,
     "solution": false,
     "task": false
    }
   },
   "outputs": [
    {
     "name": "stdout",
     "output_type": "stream",
     "text": [
      "[[ 1.   0.   0. ]\n",
      " [ 1.   1.   0.5]\n",
      " [ 1.   2.   2. ]\n",
      " [ 1.   3.   4.5]\n",
      " [ 1.   4.   8. ]\n",
      " [ 1.   5.  12.5]\n",
      " [ 1.   6.  18. ]\n",
      " [ 1.   7.  24.5]\n",
      " [ 1.   8.  32. ]]\n",
      "[ 1. 25. -4.]\n"
     ]
    }
   ],
   "source": [
    "# This cell contains tests.\n",
    "\n",
    "print(A)\n",
    "print(f_est)"
   ]
  },
  {
   "cell_type": "markdown",
   "id": "4608fa83",
   "metadata": {
    "deletable": false,
    "editable": false,
    "nbgrader": {
     "cell_type": "markdown",
     "checksum": "816367e88ab58f8c6ebdc85bd9db01d0",
     "grade": false,
     "grade_id": "cell-b14e8b97a35457b3",
     "locked": true,
     "schema_version": 3,
     "solution": false,
     "task": false
    }
   },
   "source": [
    "### Measurement errors\n",
    "The real measurements usually contain noise. In the case of additive Gaussian noise, the problem is formulated as\n",
    "$$g' = g + \\epsilon = Af + \\epsilon ,$$\n",
    "where $\\epsilon$ is a random variable with Gaussian distribution with mean $0$ and variance $\\sigma^2$, i.e. $\\epsilon \\sim \\mathcal{N}(0,\\sigma^2)$. The solution involves the pseudo-inverse as \n",
    "$$\\hat{f} = A^{PI} g' .$$\n",
    "\n",
    "* Given $\\sigma = 2$\n",
    "* Calculate $g'$ and $\\hat{f}$ \n",
    "* Save the output in the variables `g_n` and `f_est`, respectivly (as `numpy.array`)\n",
    "* Plot `g` versus `t` in the axes `ax`\n",
    "* Plot `g_n` versus `t` in the axes `ax` as well\n",
    "* Show the legend in the axes `ax`"
   ]
  },
  {
   "cell_type": "code",
   "execution_count": 44,
   "id": "d8808040",
   "metadata": {
    "deletable": false,
    "nbgrader": {
     "cell_type": "code",
     "checksum": "26ae0fac69352fa8cf513695924e9de0",
     "grade": true,
     "grade_id": "a070",
     "locked": false,
     "points": 10,
     "schema_version": 3,
     "solution": true,
     "task": false
    }
   },
   "outputs": [
    {
     "data": {
      "text/plain": [
       "<matplotlib.legend.Legend at 0x1e2277a3220>"
      ]
     },
     "execution_count": 44,
     "metadata": {},
     "output_type": "execute_result"
    },
    {
     "data": {
      "image/png": "[encoded data removed]",
      "text/plain": [
       "<Figure size 432x288 with 1 Axes>"
      ]
     },
     "metadata": {
      "needs_background": "light"
     },
     "output_type": "display_data"
    }
   ],
   "source": [
    "sigma = 2\n",
    "eps = np.random.normal(0, sigma**2, g.shape[0])\n",
    "g_n = g + eps\n",
    "f_est = np.linalg.inv(A.T@A)@A.T@g_n\n",
    "\n",
    "fig, ax = plt.subplots()  # Create a figure and an axes.\n",
    "\n",
    "ax.plot(t, g, label=\"g\")\n",
    "ax.plot(t, g_n, label=\"g'\")\n",
    "ax.legend()"
   ]
  },
  {
   "cell_type": "code",
   "execution_count": 45,
   "id": "de2a2690",
   "metadata": {
    "deletable": false,
    "editable": false,
    "nbgrader": {
     "cell_type": "code",
     "checksum": "b4e45354138c8c07746fc1cbb316eb99",
     "grade": true,
     "grade_id": "a080",
     "locked": true,
     "points": 10,
     "schema_version": 3,
     "solution": false,
     "task": false
    }
   },
   "outputs": [],
   "source": [
    "# This cell contains hidden tests.\n"
   ]
  },
  {
   "cell_type": "code",
   "execution_count": 46,
   "id": "67d97b06",
   "metadata": {
    "deletable": false,
    "editable": false,
    "nbgrader": {
     "cell_type": "code",
     "checksum": "b8774e75ea2d4b29915c36240ad92936",
     "grade": true,
     "grade_id": "a090",
     "locked": true,
     "points": 10,
     "schema_version": 3,
     "solution": false,
     "task": false
    }
   },
   "outputs": [],
   "source": [
    "# This cell contains hidden tests.\n"
   ]
  },
  {
   "cell_type": "code",
   "execution_count": 47,
   "id": "2c31256d",
   "metadata": {
    "deletable": false,
    "editable": false,
    "nbgrader": {
     "cell_type": "code",
     "checksum": "c5ab9ea218227e71bf5ac5772154b8ad",
     "grade": true,
     "grade_id": "a100",
     "locked": true,
     "points": 10,
     "schema_version": 3,
     "solution": false,
     "task": false
    }
   },
   "outputs": [
    {
     "name": "stdout",
     "output_type": "stream",
     "text": [
      "[-0.44562911 27.21033588 -4.44287281]\n"
     ]
    }
   ],
   "source": [
    "# This cell contains tests.\n",
    "\n",
    "print(f_est)\n"
   ]
  },
  {
   "cell_type": "code",
   "execution_count": null,
   "id": "0cc642f0",
   "metadata": {},
   "outputs": [],
   "source": []
  }
 ],
 "metadata": {
  "kernelspec": {
   "display_name": "Python 3 (ipykernel)",
   "language": "python",
   "name": "python3"
  },
  "language_info": {
   "codemirror_mode": {
    "name": "ipython",
    "version": 3
   },
   "file_extension": ".py",
   "mimetype": "text/x-python",
   "name": "python",
   "nbconvert_exporter": "python",
   "pygments_lexer": "ipython3",
   "version": "3.8.5"
  }
 },
 "nbformat": 4,
 "nbformat_minor": 5
}

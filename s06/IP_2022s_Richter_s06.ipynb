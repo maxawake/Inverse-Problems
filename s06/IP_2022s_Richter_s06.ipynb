{
 "cells": [
  {
   "cell_type": "markdown",
   "id": "ecf3d23f",
   "metadata": {
    "deletable": false,
    "editable": false,
    "nbgrader": {
     "cell_type": "markdown",
     "checksum": "a3697197a415aa99cec23966444e5537",
     "grade": false,
     "grade_id": "cell-49b24469f46dfeca",
     "locked": true,
     "schema_version": 3,
     "solution": false,
     "task": false
    }
   },
   "source": [
    "# Inverse Problems Exercises: 2022s s06 (non-physics)\n",
    "https://www.umm.uni-heidelberg.de/miism/"
   ]
  },
  {
   "cell_type": "markdown",
   "id": "6e30cb0f",
   "metadata": {
    "deletable": false,
    "editable": false,
    "nbgrader": {
     "cell_type": "markdown",
     "checksum": "cec4cf272782838191548438284b86fc",
     "grade": false,
     "grade_id": "cell-fa7322d20795c385",
     "locked": true,
     "schema_version": 3,
     "solution": false,
     "task": false
    }
   },
   "source": [
    "## Notes\n",
    "* Please **DO NOT** change the name of the `.ipynb` file. \n",
    "* Please **DO NOT** import extra packages to solve the tasks. \n",
    "* Please put the `.ipynb` file directly into the `.zip` archive without any intermediate folder. "
   ]
  },
  {
   "cell_type": "markdown",
   "id": "bc6444af",
   "metadata": {
    "deletable": false,
    "editable": false,
    "nbgrader": {
     "cell_type": "markdown",
     "checksum": "577de3d815a5433df6d24b2edf6f4512",
     "grade": false,
     "grade_id": "cell-25297d00d0806932",
     "locked": true,
     "schema_version": 3,
     "solution": false,
     "task": false
    }
   },
   "source": [
    "## Please provide your personal information\n",
    "* full name (Name): "
   ]
  },
  {
   "cell_type": "markdown",
   "id": "72ad1b85",
   "metadata": {
    "deletable": false,
    "nbgrader": {
     "cell_type": "markdown",
     "checksum": "6ed66fd19bab168d80c4865c274aecd5",
     "grade": true,
     "grade_id": "cell-2d2bf14a246580e7",
     "locked": false,
     "points": 0,
     "schema_version": 3,
     "solution": true,
     "task": false
    }
   },
   "source": [
    "Maximilian Richter"
   ]
  },
  {
   "cell_type": "markdown",
   "id": "73002e5e",
   "metadata": {
    "deletable": false,
    "editable": false,
    "nbgrader": {
     "cell_type": "markdown",
     "checksum": "4d02d7b68e6b3ef4e44de46fd6523cc0",
     "grade": false,
     "grade_id": "cell-f1875ccbf1bb47f8",
     "locked": true,
     "schema_version": 3,
     "solution": false,
     "task": false
    }
   },
   "source": [
    "## D05b: Pseudo-inverse"
   ]
  },
  {
   "cell_type": "code",
   "execution_count": null,
   "id": "cd3c35d8",
   "metadata": {
    "deletable": false,
    "editable": false,
    "nbgrader": {
     "cell_type": "code",
     "checksum": "f3bcb1a01c34e06da8fe4a9bd505c6a5",
     "grade": false,
     "grade_id": "cell-83d8e161fbf2ff18",
     "locked": true,
     "schema_version": 3,
     "solution": false,
     "task": false
    }
   },
   "outputs": [],
   "source": [
    "import numpy as np\n",
    "import matplotlib.pyplot as plt\n",
    "\n",
    "from scipy.linalg import solve_sylvester"
   ]
  },
  {
   "cell_type": "code",
   "execution_count": null,
   "id": "ab2da6b6",
   "metadata": {
    "deletable": false,
    "editable": false,
    "nbgrader": {
     "cell_type": "code",
     "checksum": "d5f0f16e1e40b7f60b4737e9b40b6bc7",
     "grade": false,
     "grade_id": "cell-13e22ea5cdc29817",
     "locked": true,
     "schema_version": 3,
     "solution": false,
     "task": false
    }
   },
   "outputs": [],
   "source": [
    "file_gaussian = 'file_gaussian.npz'\n",
    "with np.load(file_gaussian) as data:\n",
    "    f_true = data['f_true']\n",
    "    A_psf = data['A_psf']\n",
    "    list_gn = data['list_gn']"
   ]
  },
  {
   "cell_type": "markdown",
   "id": "29ba04c9",
   "metadata": {
    "deletable": false,
    "editable": false,
    "nbgrader": {
     "cell_type": "markdown",
     "checksum": "dc23ba75a1f05a3ba83fa0296d0ff9a4",
     "grade": false,
     "grade_id": "cell-1bcf01e33e327892",
     "locked": true,
     "schema_version": 3,
     "solution": false,
     "task": false
    }
   },
   "source": [
    "### Imaging model\n",
    "The imaging model can be represented by\n",
    "$$\n",
    "g = h \\otimes f_\\text{true}\n",
    "= Af_\\text{true}\n",
    "= \\mathcal{F}^{-1}\\{ \\mathcal{F}\\{h\\} \\mathcal{F}\\{f_\\text{true}\\} \\},\n",
    "$$\n",
    "$$\n",
    "g' = g + \\epsilon.\n",
    "$$\n",
    "* $f_\\text{true}$ is the input signal\n",
    "* $h$ is the point spread function (kernel)\n",
    "* $\\otimes$ is the convolution operator\n",
    "* $A$ is the Toeplitz matrix of $h$\n",
    "* $\\mathcal{F}$ and $\\mathcal{F}^{-1}$ are the Fourier transform operator and inverse Fourier transform operator\n",
    "* $\\epsilon$ is the additive Gaussian noise\n",
    "* $g$ is the filtered signal\n",
    "* $g'$ is the noisy signal"
   ]
  },
  {
   "cell_type": "markdown",
   "id": "70c7a6da",
   "metadata": {
    "deletable": false,
    "editable": false,
    "nbgrader": {
     "cell_type": "markdown",
     "checksum": "1be0ea236341054f894fc3a5fa2e6b22",
     "grade": false,
     "grade_id": "cell-86e480e83faad2c3",
     "locked": true,
     "schema_version": 3,
     "solution": false,
     "task": false
    }
   },
   "source": [
    "### Downsampling\n",
    "* Implement the downsampling matrix\n",
    "$$D_\\text{ds} = \\begin{bmatrix} \n",
    "1 & 0 & 0 & 0 & 0 & ... \\\\\n",
    "0 & 0 & 1 & 0 & 0 & ... \\\\\n",
    "0 & 0 & 0 & 0 & 1 & ... \\\\\n",
    "  &   &   & ... & &     \\end{bmatrix}_{n/2 \\times n}$$\n",
    "* Given the size $n_\\text{ds}$\n",
    "* Implement the function `get_downsampling_matrix()` (using `numpy.array`)\n",
    "\n",
    "Prepare the data with downsampling\n",
    "* Downsample the signal in `list_gn[1]` and save the output in the variable `gn_ds` (as `numpy.array`)\n",
    "* Calculate the system matrix with downsampling with `A_psf` and save the output in the variable `A_ds` (as `numpy.array`)"
   ]
  },
  {
   "cell_type": "code",
   "execution_count": null,
   "id": "da3ee2e6",
   "metadata": {
    "deletable": false,
    "nbgrader": {
     "cell_type": "code",
     "checksum": "1bcfbc70ac60eb452db337d04b9bd0d0",
     "grade": false,
     "grade_id": "cell-47eec6821784b19a",
     "locked": false,
     "schema_version": 3,
     "solution": true,
     "task": false
    }
   },
   "outputs": [],
   "source": [
    "def get_downsampling_matrix(n):\n",
    "    \"\"\" Create downsampling matrix.\n",
    "\n",
    "    :param n: Size of the input signal\n",
    "    :returns: 2d matrix of size (n/2, n)\n",
    "    \"\"\"\n",
    "    n_half = int(n/2)\n",
    "    matrix = np.zeros((n_half, n))\n",
    "    matrix[:,::2] = np.eye(n_half)\n",
    "    return matrix\n",
    "\n",
    "gn_ds = get_downsampling_matrix(list_gn[1].shape[0])@list_gn[1]\n",
    "A_ds = get_downsampling_matrix(A_psf.shape[0])@A_psf\n",
    "print(get_downsampling_matrix(A_psf.shape[0]))"
   ]
  },
  {
   "cell_type": "code",
   "execution_count": null,
   "id": "cb34d5a6",
   "metadata": {
    "deletable": false,
    "editable": false,
    "nbgrader": {
     "cell_type": "code",
     "checksum": "2bb600323323050db9b33cf5a2179801",
     "grade": true,
     "grade_id": "a010",
     "locked": true,
     "points": 10,
     "schema_version": 3,
     "solution": false,
     "task": false
    }
   },
   "outputs": [],
   "source": [
    "# This cell contains hidden tests.\n"
   ]
  },
  {
   "cell_type": "markdown",
   "id": "701d2cff",
   "metadata": {
    "deletable": false,
    "editable": false,
    "nbgrader": {
     "cell_type": "markdown",
     "checksum": "12c2a17f2de6f4943bccb084786ec5be",
     "grade": false,
     "grade_id": "cell-544046a9bb51fcfb",
     "locked": true,
     "schema_version": 3,
     "solution": false,
     "task": false
    }
   },
   "source": [
    "### Pseudo-inverse solutions\n",
    "In the structure of Tikhonov regularization, a general solution can be written with a pseudo-inverse $A^{-I}$:\n",
    "$$\n",
    "\\tilde f = A^{-I} g.\n",
    "$$\n",
    "$A^{-I}$ is a matrix satisfying the following expression:\n",
    "$$\n",
    "\\alpha_1 (A^T A) A^{-I} + A^{-I} (\\alpha_2 A A^T + \\alpha_3 \\operatorname{cov}(g)) = (\\alpha_1 + \\alpha_2) A^T,\n",
    "$$\n",
    "where $\\alpha_1$, $\\alpha_2$, $\\alpha_3$ are the specific parameters. Especially,\n",
    "* when $\\alpha_1 = 1$, $\\alpha_2 = 0$, $\\alpha_3 = \\lambda$, $\\operatorname{cov}(g) = I$, it is the damped least squares\n",
    "$$\n",
    "A^{-I} = (A^T A + \\lambda I) ^{-1} A^T ,\n",
    "$$\n",
    "* when $\\alpha_1 = 0$, $\\alpha_2 = 1$, $\\alpha_3 = \\lambda$, $\\operatorname{cov}(g) = I$, it is the damped minimum length\n",
    "$$\n",
    "A^{-I} = A^T (A^T A + \\lambda I) ^{-1} .\n",
    "$$\n",
    "\n",
    "Implement the pseudo-inverse calculation\n",
    "* Given the system matrix $A$\n",
    "* Given the covariance $\\operatorname{cov}(g)$\n",
    "* Given the parameter set $(\\alpha_1, \\alpha_2, \\alpha_3)$\n",
    "* Solving the Sylvester equation (using ```scipy.linalg.solve_sylvester()```)\n",
    "* Implement the function `solve_pseudo_inverse()` (using `numpy.array`)\n",
    "\n",
    "Calculation the pseudo-inverse solutions\n",
    "* Calculate the solutions for the downsampled data `gn_ds` and `A_ds`\n",
    "* Use $\\operatorname{cov}(g) = I$\n",
    "* Use 9 different parameter sets $(\\alpha_1, \\alpha_2, \\alpha_3)$ as follows:\n",
    "$$\n",
    "\\begin{array}{lll}\n",
    " (1, 0, 0),    &(0.5, 0.5, 0),    &(0, 1, 0) \\\\\n",
    " (1, 0, 0.01), &(0.5, 0.5, 0.01), &(0, 1, 0.01) \\\\\n",
    " (1, 0, 0.1),  &(0.5, 0.5, 0.1),  &(0, 1, 0.1) \\\\\n",
    "\\end{array}\n",
    "$$\n",
    "* Save the pseudo-inverse matrices in the variable `list_A_inv` (as `list` of `numpy.array`)\n",
    "* Save the pseudo-inverse solutions in the variable `list_f_inv` (as `list` of `numpy.array`)\n",
    "\n",
    "Display the result\n",
    "* Plot the outputs in `list_f_inv` in the same order of the parameter options in the subplots of `axs`\n",
    "* Plot the noisy signal `gn_ds` at the corresponding space coordinates in each subplot\n",
    "* Plot the input signal `f_true` in each subplot\n",
    "* Show the legend in each subplot\n",
    "* Show the case information in the titles to the subplots"
   ]
  },
  {
   "cell_type": "code",
   "execution_count": null,
   "id": "de8fb868",
   "metadata": {
    "deletable": false,
    "nbgrader": {
     "cell_type": "code",
     "checksum": "be6e14c5463121e6dbd3bd9a7faa8299",
     "grade": true,
     "grade_id": "a020",
     "locked": false,
     "points": 10,
     "schema_version": 3,
     "solution": true,
     "task": false
    }
   },
   "outputs": [],
   "source": [
    "def solve_pseudo_inverse(A, cov_g, alpha):\n",
    "    \"\"\" \n",
    "    :param A: System matrix.\n",
    "    :param cov_g: Covariance of g.\n",
    "    :param alpha: Array of 3 alpha values.\n",
    "    :returns: Pseudo-inverse matrix.\n",
    "    \"\"\"\n",
    "    a = alpha[0]*(A.T@A)\n",
    "    b =  (alpha[1]*A@A.T + alpha[2]*cov_g)\n",
    "    c = (alpha[0]+alpha[1])*A.T\n",
    "    return solve_sylvester(a, b, c)\n",
    "    \n",
    "fig, axs = plt.subplots(3, 3, figsize=(15, 15))\n",
    "fig.suptitle('Pseudo-inverse solutions')\n",
    "\n",
    "alphas = [[1,0,0], [0.5, 0.5, 0], [0, 1, 0], [1, 0, 0.01], [0.5, 0.5, 0.01], [0, 1, 0.01], [1, 0, 0.1], [0.5, 0.5, 0.1], [0,1,0.1]]\n",
    "g_cov = np.eye(160)\n",
    "list_A_inv = []\n",
    "list_f_inv = []\n",
    "\n",
    "for i in range(3):\n",
    "    for j in range(3):\n",
    "        A_inv = solve_pseudo_inverse(A_ds, g_cov, alphas[i*3+j])\n",
    "        f_inv = A_inv @ gn_ds\n",
    "\n",
    "        list_A_inv.append(A_inv)\n",
    "        list_f_inv.append(f_inv)\n",
    "        \n",
    "        axs[i,j].plot(f_true, label=\"$f_{true}$\", color=\"black\")\n",
    "        axs[i,j].plot(np.arange(0,320)[::2],gn_ds, label=\"$g_n$ ds\")\n",
    "        axs[i,j].plot(f_inv, label=\"$f_{inv}$\")\n",
    "        axs[i,j].set_title(\"$\\\\alpha_1={}, \\\\alpha_2={}, \\\\alpha_3={}$\".format(alphas[i*3+j][0], alphas[i*3+j][1], alphas[i*3+j][2]))\n",
    "        axs[i,j].legend()\n",
    "\n"
   ]
  },
  {
   "cell_type": "code",
   "execution_count": null,
   "id": "0453ad9b",
   "metadata": {
    "deletable": false,
    "editable": false,
    "nbgrader": {
     "cell_type": "code",
     "checksum": "f70b08d43eaa1febab08e29498daa515",
     "grade": true,
     "grade_id": "a030",
     "locked": true,
     "points": 10,
     "schema_version": 3,
     "solution": false,
     "task": false
    }
   },
   "outputs": [],
   "source": [
    "# This cell contains hidden tests.\n"
   ]
  },
  {
   "cell_type": "code",
   "execution_count": null,
   "id": "b9b777a8",
   "metadata": {
    "deletable": false,
    "editable": false,
    "nbgrader": {
     "cell_type": "code",
     "checksum": "5697e4566c734df2316c651141776ea3",
     "grade": true,
     "grade_id": "a040",
     "locked": true,
     "points": 10,
     "schema_version": 3,
     "solution": false,
     "task": false
    }
   },
   "outputs": [],
   "source": [
    "# This cell contains hidden tests.\n"
   ]
  },
  {
   "cell_type": "markdown",
   "id": "29298f43",
   "metadata": {
    "deletable": false,
    "editable": false,
    "nbgrader": {
     "cell_type": "markdown",
     "checksum": "6592034a25f9de0f05ec3c3dd4962737",
     "grade": false,
     "grade_id": "cell-f9f10f652172ac76",
     "locked": true,
     "schema_version": 3,
     "solution": false,
     "task": false
    }
   },
   "source": [
    "### Resolution matrices and covariance matrix\n",
    "The related matrices, i.e. the data resolution matrix $N$, the model resolution matrix $R$ and the covariance matrix $\\operatorname{cov}(f)$, are defined as follows:\n",
    "$$\n",
    "\\begin{align*}\n",
    "N &= A A^{-I} \\\\\n",
    "R &= A^{-I} A \\\\\n",
    "\\operatorname{cov}(f) &= A^{-I} \\operatorname{cov}(g) (A^{-I})^T \\\\\n",
    "\\end{align*}\n",
    "$$\n",
    "* Given $A$, $A^{-I}$, $\\operatorname{cov}(g)$\n",
    "* Implement the function `get_data_resolution_matrix()` (using `numpy.array`)\n",
    "* Implement the function `get_model_resolution_matrix()` (using `numpy.array`)\n",
    "* Implement the function `get_cov_f()` (using `numpy.array`)\n",
    "\n",
    "Calculate the matrices\n",
    "* Calculate the matrices for the pseudo-inverse matrices in `list_A_inv`\n",
    "* Save the data resolution matrices $N$ in the variable `list_N` (as `list` of `numpy.array`)\n",
    "* Save the model resolution matrices $R$ in the variable `list_R` (as `list` of `numpy.array`)\n",
    "* Save the covariance matrices $\\operatorname{cov}(f)$ in the variable `list_cov_f` (as `list` of `numpy.array`)\n",
    "\n",
    "Display the result\n",
    "* Plot the matrices in `list_N` as images in the same order of the parameter options in the subplots of `axs_N`\n",
    "* Plot the matrices in `list_R` as images in the same order of the parameter options in the subplots of `axs_R`\n",
    "* Plot the matrices in `list_cov_f` as images in the same order of the parameter options in the subplots of `axs_cov_F`\n",
    "* Show the colorbar of each subplot\n",
    "* Show the case information in the titles to the subplots"
   ]
  },
  {
   "cell_type": "code",
   "execution_count": null,
   "id": "76380966",
   "metadata": {
    "deletable": false,
    "nbgrader": {
     "cell_type": "code",
     "checksum": "6ce22356ebae5737de4369694e75ccfe",
     "grade": true,
     "grade_id": "a050",
     "locked": false,
     "points": 10,
     "schema_version": 3,
     "solution": true,
     "task": false
    }
   },
   "outputs": [],
   "source": [
    "def get_data_resolution_matrix(A, A_I):\n",
    "    \"\"\"\n",
    "    :param A: System matrix.\n",
    "    :param A_I: Pseudo-inverse matrix.\n",
    "    :returns: Data resolutin matrix.\n",
    "    \"\"\"\n",
    "    return A@A_I\n",
    "\n",
    "def get_model_resolution_matrix(A, A_I):\n",
    "    \"\"\"\n",
    "    :param A: System matrix.\n",
    "    :param A_I: Pseudo-inverse matrix.\n",
    "    :returns: Model resolutin matrix.\n",
    "    \"\"\"\n",
    "    return A_I@A\n",
    "\n",
    "def get_cov_f(cov_g, A_I):\n",
    "    \"\"\"\n",
    "    :param cov_g: Covariance of g.\n",
    "    :param A_I: Pseudo-inverse matrix.\n",
    "    :returns: Covariance of f.\n",
    "    \"\"\"\n",
    "    return A_I@cov_g@A_I.T\n",
    "\n",
    "list_N = [get_data_resolution_matrix(A_ds, A_inv) for A_inv in list_A_inv]\n",
    "list_R = [get_model_resolution_matrix(A_ds, A_inv) for A_inv in list_A_inv]\n",
    "list_cov_f = [get_cov_f(g_cov, A_inv) for A_inv in list_A_inv]\n",
    "\n",
    "fig, axs_N = plt.subplots(3, 3, figsize=(15, 15))\n",
    "fig.suptitle('data resolution matrix (N)')\n",
    "\n",
    "for i in range(3):\n",
    "    for j in range(3):\n",
    "        im = axs_N[i,j].imshow(list_N[i*3+j], cmap=\"turbo\")\n",
    "        plt.colorbar(im, ax=axs_N[i,j],fraction=0.046, pad=0.04)\n",
    "        axs_N[i,j].set_title(\"$\\\\alpha_1={}, \\\\alpha_2={}, \\\\alpha_3={}$\".format(alphas[i*3+j][0], alphas[i*3+j][1], alphas[i*3+j][2]))\n",
    "\n",
    "    \n",
    "fig, axs_R = plt.subplots(3, 3, figsize=(15, 15))\n",
    "fig.suptitle('model resolution matrix (R)')\n",
    "fig.patch.set_facecolor('yellow')\n",
    "fig.patch.set_alpha(0.3)\n",
    "\n",
    "for i in range(3):\n",
    "    for j in range(3):\n",
    "        im = axs_R[i,j].imshow(list_R[i*3+j], cmap=\"turbo\")\n",
    "        plt.colorbar(im, ax=axs_R[i,j],fraction=0.046, pad=0.04)\n",
    "        axs_R[i,j].set_title(\"$\\\\alpha_1={}, \\\\alpha_2={}, \\\\alpha_3={}$\".format(alphas[i*3+j][0], alphas[i*3+j][1], alphas[i*3+j][2]))\n",
    "    \n",
    "fig, axs_cov_f = plt.subplots(3, 3, figsize=(15, 15))\n",
    "fig.suptitle('covariance cov(f)')\n",
    "\n",
    "for i in range(3):\n",
    "    for j in range(3):\n",
    "        im = axs_cov_f[i,j].imshow(list_cov_f[i*3+j], cmap=\"turbo\")\n",
    "        plt.colorbar(im, ax=axs_cov_f[i,j],fraction=0.046, pad=0.04)\n",
    "        axs_cov_f[i,j].set_title(\"$\\\\alpha_1={}, \\\\alpha_2={}, \\\\alpha_3={}$\".format(alphas[i*3+j][0], alphas[i*3+j][1], alphas[i*3+j][2]))\n",
    "    \n",
    "# * some points\n",
    "#   - Check whether the colorbar is shown\n",
    "#   - Check whether the titles are correct"
   ]
  },
  {
   "cell_type": "code",
   "execution_count": null,
   "id": "a10e6b75",
   "metadata": {
    "deletable": false,
    "editable": false,
    "nbgrader": {
     "cell_type": "code",
     "checksum": "5da4633c5cecf41278dabd191ba2cbce",
     "grade": true,
     "grade_id": "a060",
     "locked": true,
     "points": 10,
     "schema_version": 3,
     "solution": false,
     "task": false
    }
   },
   "outputs": [],
   "source": [
    "# This cell contains hidden tests.\n"
   ]
  },
  {
   "cell_type": "code",
   "execution_count": null,
   "id": "cd8fee87",
   "metadata": {
    "deletable": false,
    "editable": false,
    "nbgrader": {
     "cell_type": "code",
     "checksum": "af94847e461b67c7155caa135f29a27b",
     "grade": true,
     "grade_id": "a070",
     "locked": true,
     "points": 10,
     "schema_version": 3,
     "solution": false,
     "task": false
    }
   },
   "outputs": [],
   "source": [
    "# This cell contains hidden tests.\n"
   ]
  },
  {
   "cell_type": "markdown",
   "id": "circular-roommate",
   "metadata": {
    "deletable": false,
    "editable": false,
    "nbgrader": {
     "cell_type": "markdown",
     "checksum": "7da4627f0ee96de2a6d7d85dbb11a1d1",
     "grade": false,
     "grade_id": "cell-65ba46540d29d67f",
     "locked": true,
     "schema_version": 3,
     "solution": false,
     "task": false
    }
   },
   "source": [
    "### Characteristics\n",
    "The characteristics, i.e. the spread of a matrix $\\operatorname{spread}()$ and the signal size $\\operatorname{size}()$, are defined as follows:\n",
    "$$\n",
    "\\begin{align*}\n",
    "\\operatorname{spread}(B) &= \\| B - I \\|_2^2 = \\sum_{ij}(B_{ij} - \\delta_{ij})^2 \\\\\n",
    "\\operatorname{size}(f) &= \\sum_i \\operatorname{cov}(f)_{ii} \\\\\n",
    "\\end{align*}\n",
    "$$\n",
    "* Implement the function `get_spread()` (using `numpy.array`)\n",
    "* Implement the function `get_size()` (using `numpy.array`)\n",
    "\n",
    "Calculate the characteristics\n",
    "* Calculate the characteristics for the matrices in `list_N`, `list_R`, `list_cov_f`\n",
    "* Save the spread $\\operatorname{spread}(N)$ in the variable `list_spread_N` (as `list`)\n",
    "* Save the spread $\\operatorname{spread}(R)$ in the variable `list_spread_R` (as `list`)\n",
    "* Save the size $\\operatorname{size}(f)$ in the variable `list_size_f` (as `list`)\n",
    "* Save the case index corresponding to the minimal $\\operatorname{spread}(N)$ in the variable `idx_spread_N` (as `scalar`)\n",
    "* Save the case index corresponding to the minimal $\\operatorname{spread}(R)$ in the variable `idx_spread_R` (as `scalar`)\n",
    "* Save the case index corresponding to the minimal $\\operatorname{size}(f)$ in the variable `idx_size_f` (as `scalar`)\n",
    "\n",
    "Display the result\n",
    "* Plot the value pairs in `list_spread_N` and `list_spread_R` as 2D scatter points in different colors in the left subplot of `axs`\n",
    "* Plot the value pairs in `list_spread_R` and `list_size_f` as 2D scatter points in different colors in the middle subplot of `axs`\n",
    "* Plot the value pairs in `list_size_f` and `list_spread_N` as 2D scatter points in different colors in the right subplot of `axs`\n",
    "* Show the legend in each subplot\n",
    "* Show the case information and point values in the legend\n",
    "* Highlight the cases corresponding to the minimal values in the legend"
   ]
  },
  {
   "cell_type": "code",
   "execution_count": null,
   "id": "a93e0812",
   "metadata": {
    "deletable": false,
    "nbgrader": {
     "cell_type": "code",
     "checksum": "6a237760d4fcce31a067c5d1629a6fa6",
     "grade": true,
     "grade_id": "a080",
     "locked": false,
     "points": 10,
     "schema_version": 3,
     "solution": true,
     "task": false
    }
   },
   "outputs": [],
   "source": [
    "def get_spread(B):\n",
    "    \"\"\" \n",
    "    :param B: Input matrix.\n",
    "    :returns: Spread of the input matrix.\n",
    "    \"\"\"\n",
    "    return np.sum((B-np.eye(B.shape[0]))**2)\n",
    "\n",
    "def get_size(cov_f):\n",
    "    \"\"\" \n",
    "    :param cov_f: Covariance of f.\n",
    "    :returns: Size of f.\n",
    "    \"\"\"\n",
    "    return np.sum(np.trace(cov_f))\n",
    "    \n",
    "fig, axs = plt.subplots(1, 3, figsize=(15, 5))\n",
    "fig.suptitle('Characteristics')\n",
    "\n",
    "list_spread_N = []\n",
    "list_spread_R = []\n",
    "list_size_f = []\n",
    "\n",
    "idx_spread_N = []\n",
    "idx_spread_R = []\n",
    "idx_size_f = []\n",
    "\n",
    "for i in range(9):\n",
    "    list_spread_N.append(get_spread(list_N[i]))\n",
    "    list_spread_R.append(get_spread(list_R[i]))\n",
    "    list_size_f.append(get_size(list_cov_f[i]))\n",
    "\n",
    "    idx_spread_N.append(i)\n",
    "    idx_spread_R.append(i)\n",
    "    idx_size_f.append(i)\n",
    "\n",
    "labels1 = [\"({}, {}, {}), {:.2f}, {:.2f}\".format(alphas[i][0], alphas[i][1], alphas[i][2], list_spread_N[i], list_spread_R[i]) for i in range(len(alphas))]#np.hstack((alphas, np.array(list_spread_N)[:,np.newaxis]))\n",
    "labels2 = [\"({}, {}, {}), {:.2f}, {:.2f}\".format(alphas[i][0], alphas[i][1], alphas[i][2], list_spread_R[i], list_size_f[i]) for i in range(len(alphas))]#np.hstack((alphas, np.array(list_spread_N)[:,np.newaxis]))\n",
    "labels3 = [\"({}, {}, {}), {:.2f}, {:.2f}\".format(alphas[i][0], alphas[i][1], alphas[i][2], list_size_f[i], list_spread_N[i]) for i in range(len(alphas))]#np.hstack((alphas, np.array(list_spread_N)[:,np.newaxis]))\n",
    "\n",
    "scatter0 = axs[0].scatter(list_spread_N, list_spread_R, c=idx_spread_N, label=labels1, cmap=\"turbo\")\n",
    "scatter1 = axs[1].scatter(list_spread_R, list_size_f, c=idx_spread_N, label=labels2, cmap=\"turbo\")\n",
    "scatter2 = axs[2].scatter(list_size_f, list_spread_N, c=idx_spread_N, label=labels3, cmap=\"turbo\")\n",
    "\n",
    "axs[0].legend(handles=scatter0.legend_elements()[0], labels=labels1)\n",
    "axs[1].legend(handles=scatter1.legend_elements()[0], labels=labels2)\n",
    "axs[2].legend(handles=scatter2.legend_elements()[0], labels=labels3)\n",
    "\n",
    "axs[0].set_title(\"$\\\\alpha_1,\\\\alpha_2,\\\\alpha_3, Spread(N), Spread(R)$\")\n",
    "axs[1].set_title(\"$\\\\alpha_1,\\\\alpha_2,\\\\alpha_3, Spread(R), Size(f)$\")\n",
    "axs[2].set_title(\"$\\\\alpha_1,\\\\alpha_2,\\\\alpha_3, Size(f), Spread(N)$\")"
   ]
  },
  {
   "cell_type": "code",
   "execution_count": null,
   "id": "93bf9798",
   "metadata": {
    "deletable": false,
    "editable": false,
    "nbgrader": {
     "cell_type": "code",
     "checksum": "b8774e75ea2d4b29915c36240ad92936",
     "grade": true,
     "grade_id": "a090",
     "locked": true,
     "points": 10,
     "schema_version": 3,
     "solution": false,
     "task": false
    }
   },
   "outputs": [],
   "source": [
    "# This cell contains hidden tests.\n"
   ]
  },
  {
   "cell_type": "markdown",
   "id": "befc7491",
   "metadata": {
    "deletable": false,
    "editable": false,
    "nbgrader": {
     "cell_type": "markdown",
     "checksum": "bffc7affa189a6f23b7e6a524f9a5106",
     "grade": false,
     "grade_id": "cell-d8fd1170cf16637b",
     "locked": true,
     "schema_version": 3,
     "solution": false,
     "task": false
    }
   },
   "source": [
    "### Why are the results with $\\lambda = 0.01$ the best according to the characteristics?"
   ]
  },
  {
   "cell_type": "markdown",
   "id": "de17f13f",
   "metadata": {
    "deletable": false,
    "nbgrader": {
     "cell_type": "markdown",
     "checksum": "195b7079323a714b674fda7b242fa684",
     "grade": true,
     "grade_id": "a100",
     "locked": false,
     "points": 10,
     "schema_version": 3,
     "solution": true,
     "task": false
    }
   },
   "source": [
    "Because the Spread resembles the deviation of the matrix from a identity matrix. The case of $\\lambda=0.01$ is the one with both, $N$ and $R$ resembling a identity matrix the best. A high $size(f)$ means overfit, which is the smallest and therefore best for $\\lambda=0.01$. "
   ]
  },
  {
   "cell_type": "markdown",
   "id": "1a9f9643",
   "metadata": {},
   "source": []
  }
 ],
 "metadata": {
  "interpreter": {
   "hash": "efcf8a7d29568ee6aa19d18162f3216c75d115c7ce0b1cb4e80848b9a37f2ca8"
  },
  "kernelspec": {
   "display_name": "Python 3.8.5 ('base')",
   "language": "python",
   "name": "python3"
  },
  "language_info": {
   "codemirror_mode": {
    "name": "ipython",
    "version": 3
   },
   "file_extension": ".py",
   "mimetype": "text/x-python",
   "name": "python",
   "nbconvert_exporter": "python",
   "pygments_lexer": "ipython3",
   "version": "3.8.5"
  }
 },
 "nbformat": 4,
 "nbformat_minor": 5
}

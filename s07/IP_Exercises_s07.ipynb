{
 "cells": [
  {
   "cell_type": "markdown",
   "id": "ecf3d23f",
   "metadata": {
    "deletable": false,
    "editable": false,
    "nbgrader": {
     "cell_type": "markdown",
     "checksum": "70976b728fb9cfd530c82e721daa371a",
     "grade": false,
     "grade_id": "cell-49b24469f46dfeca",
     "locked": true,
     "schema_version": 3,
     "solution": false,
     "task": false
    }
   },
   "source": [
    "# Inverse Problems Exercises: 2022s s07 (non-sc)\n",
    "https://www.umm.uni-heidelberg.de/miism/"
   ]
  },
  {
   "cell_type": "markdown",
   "id": "6e30cb0f",
   "metadata": {
    "deletable": false,
    "editable": false,
    "nbgrader": {
     "cell_type": "markdown",
     "checksum": "cec4cf272782838191548438284b86fc",
     "grade": false,
     "grade_id": "cell-fa7322d20795c385",
     "locked": true,
     "schema_version": 3,
     "solution": false,
     "task": false
    }
   },
   "source": [
    "## Notes\n",
    "* Please **DO NOT** change the name of the `.ipynb` file. \n",
    "* Please **DO NOT** import extra packages to solve the tasks. \n",
    "* Please put the `.ipynb` file directly into the `.zip` archive without any intermediate folder. "
   ]
  },
  {
   "cell_type": "markdown",
   "id": "bc6444af",
   "metadata": {
    "deletable": false,
    "editable": false,
    "nbgrader": {
     "cell_type": "markdown",
     "checksum": "577de3d815a5433df6d24b2edf6f4512",
     "grade": false,
     "grade_id": "cell-25297d00d0806932",
     "locked": true,
     "schema_version": 3,
     "solution": false,
     "task": false
    }
   },
   "source": [
    "## Please provide your personal information\n",
    "* full name (Name): "
   ]
  },
  {
   "cell_type": "markdown",
   "id": "72ad1b85",
   "metadata": {
    "deletable": false,
    "nbgrader": {
     "cell_type": "markdown",
     "checksum": "6ed66fd19bab168d80c4865c274aecd5",
     "grade": true,
     "grade_id": "cell-2d2bf14a246580e7",
     "locked": false,
     "points": 0,
     "schema_version": 3,
     "solution": true,
     "task": false
    }
   },
   "source": [
    "Maximilian Richter"
   ]
  },
  {
   "cell_type": "markdown",
   "id": "faea90ea",
   "metadata": {
    "deletable": false,
    "editable": false,
    "nbgrader": {
     "cell_type": "markdown",
     "checksum": "65f44ea5197a63eb3dd887f4b8325306",
     "grade": false,
     "grade_id": "cell-84d3a3be3b5b358c",
     "locked": true,
     "schema_version": 3,
     "solution": false,
     "task": false
    }
   },
   "source": [
    "## S01b: Probabilities of Gaussian models"
   ]
  },
  {
   "cell_type": "code",
   "execution_count": 96,
   "id": "3839acc8",
   "metadata": {
    "deletable": false,
    "editable": false,
    "nbgrader": {
     "cell_type": "code",
     "checksum": "d3f61bb0c74151a3f5013e23691bc09c",
     "grade": false,
     "grade_id": "cell-8e3d61045990b3de",
     "locked": true,
     "schema_version": 3,
     "solution": false,
     "task": false
    }
   },
   "outputs": [],
   "source": [
    "import numpy as np\n",
    "import matplotlib.pyplot as plt"
   ]
  },
  {
   "cell_type": "markdown",
   "id": "a7302a82",
   "metadata": {
    "deletable": false,
    "editable": false,
    "nbgrader": {
     "cell_type": "markdown",
     "checksum": "330f40cb4aad7aa785b14b2ea7c486a6",
     "grade": false,
     "grade_id": "cell-2da1eb0d4cb87261",
     "locked": true,
     "schema_version": 3,
     "solution": false,
     "task": false
    }
   },
   "source": [
    "### Imaging model\n",
    "The imaging model can be represented by\n",
    "$$\n",
    "g = Af + \\epsilon\n",
    "$$\n",
    "* $f$ is the input signal\n",
    "* $A$ is the system matrix\n",
    "* $\\epsilon$ is the additive Gaussian noise\n",
    "* $g$ is the output signal"
   ]
  },
  {
   "cell_type": "markdown",
   "id": "f792613a",
   "metadata": {
    "deletable": false,
    "editable": false,
    "nbgrader": {
     "cell_type": "markdown",
     "checksum": "cce64cee7892d1cd25a1b85b4915fd50",
     "grade": false,
     "grade_id": "cell-1dccc0736e6f66d7",
     "locked": true,
     "schema_version": 3,
     "solution": false,
     "task": false
    }
   },
   "source": [
    "### Probability calculation\n",
    "Implement the probability calculation of 1D variables\n",
    "* Given the samples of variable $v$\n",
    "* Given the bin edges of the histogram\n",
    "* Calculates the 1D probability density function $p(v)$ (using `numpy.histogram()`)\n",
    "* Implement the function `probability_one_variable()` (using `numpy.array`)\n",
    "\n",
    "Implement the probability calculation of 2D variables\n",
    "* Given the samples of variable $v_1$, $v_2$\n",
    "* Given the bin edges of the probability map\n",
    "* Calculates the 2D probability density maps $p(v_1, v_2)$, $p(v_1 | v_2) = p(v_1, v_2) / p(v_2)$ and $p(v_2 | v_1) = p(v_1, v_2) / p(v_1)$ (using `numpy.histogram2d()`)\n",
    "* Implement the function `probability_two_variables()` (using `numpy.array`)"
   ]
  },
  {
   "cell_type": "code",
   "execution_count": 97,
   "id": "23575c97",
   "metadata": {
    "deletable": false,
    "nbgrader": {
     "cell_type": "code",
     "checksum": "132bc429225414a637be9abd6e9d1a13",
     "grade": false,
     "grade_id": "cell-8b105df748066e9e",
     "locked": false,
     "schema_version": 3,
     "solution": true,
     "task": false
    }
   },
   "outputs": [],
   "source": [
    "def probability_one_variable(samples_v, edges_v):\n",
    "    \"\"\" Calculates the 1D probability density function\n",
    "\n",
    "    :param samples_v: samples of variable v\n",
    "    :param edges_v: bin edges of the histogram\n",
    "    :returns: probability p(v)\n",
    "    \"\"\"\n",
    "    p_v, _ = np.histogram(samples_v, edges_v, density=True)\n",
    "    #p_v = p_v / np.sum(p_v)\n",
    "    return p_v\n",
    "\n",
    "def probability_two_variables(samples_v1, samples_v2, edges_v1, edges_v2):\n",
    "    \"\"\" Calculates the 2D probability density maps\n",
    "\n",
    "    :param samples_v1: samples of variable v1\n",
    "    :param samples_v2: samples of variable v2\n",
    "    :param edges_v1: bin edges of v1 in the probability map\n",
    "    :param edges_v2: bin edges of v2 in the probability map\n",
    "    :returns: joint probability p(v1, v2) and conditional probability p(v1|v2), p(v2|v1)\n",
    "    \"\"\"\n",
    "\n",
    "    p_v1_and_v2, _, _ = np.histogram2d(samples_v1, samples_v2, bins=(edges_v1, edges_v2), density=True)\n",
    "\n",
    "    p_v1 = probability_one_variable(samples_v1, edges_v1) \n",
    "    p_v2 = probability_one_variable(samples_v2, edges_v2)\n",
    "    \n",
    "    p_v2, p_v1 = np.meshgrid(p_v2, p_v1)\n",
    "\n",
    "    p_v1_given_v2 = p_v1_and_v2 / (p_v2+1e-6)\n",
    "    p_v2_given_v1 = p_v1_and_v2 / (p_v1 +1e-6)\n",
    "\n",
    "    return p_v1_and_v2, p_v1_given_v2, p_v2_given_v1"
   ]
  },
  {
   "cell_type": "code",
   "execution_count": 98,
   "id": "cdc949ba",
   "metadata": {
    "deletable": false,
    "editable": false,
    "nbgrader": {
     "cell_type": "code",
     "checksum": "2bb600323323050db9b33cf5a2179801",
     "grade": true,
     "grade_id": "a010",
     "locked": true,
     "points": 10,
     "schema_version": 3,
     "solution": false,
     "task": false
    }
   },
   "outputs": [],
   "source": [
    "# This cell contains hidden tests.\n"
   ]
  },
  {
   "cell_type": "code",
   "execution_count": 99,
   "id": "92b25181",
   "metadata": {
    "deletable": false,
    "editable": false,
    "nbgrader": {
     "cell_type": "code",
     "checksum": "1baebacf27f7ec8062e56282f5574280",
     "grade": true,
     "grade_id": "a020",
     "locked": true,
     "points": 10,
     "schema_version": 3,
     "solution": false,
     "task": false
    }
   },
   "outputs": [],
   "source": [
    "# This cell contains hidden tests.\n"
   ]
  },
  {
   "cell_type": "code",
   "execution_count": 100,
   "id": "8b07569e",
   "metadata": {
    "deletable": false,
    "editable": false,
    "nbgrader": {
     "cell_type": "code",
     "checksum": "f70b08d43eaa1febab08e29498daa515",
     "grade": true,
     "grade_id": "a030",
     "locked": true,
     "points": 10,
     "schema_version": 3,
     "solution": false,
     "task": false
    }
   },
   "outputs": [],
   "source": [
    "# This cell contains hidden tests.\n"
   ]
  },
  {
   "cell_type": "markdown",
   "id": "b6aab086",
   "metadata": {
    "deletable": false,
    "editable": false,
    "nbgrader": {
     "cell_type": "markdown",
     "checksum": "41690e457031d206fb748c4c0f83edb1",
     "grade": false,
     "grade_id": "cell-26f0fe452d41f8e5",
     "locked": true,
     "schema_version": 3,
     "solution": false,
     "task": false
    }
   },
   "source": [
    "### Signal generation 1\n",
    "Create the signals as follows\n",
    "* $f$ is a normally distributed scalar $f \\sim \\mathcal{N}(27, 15^2)$\n",
    "* $\\epsilon$ is a normally distributed scalar $\\epsilon \\sim \\mathcal{N}(0, 4^2)$\n",
    "* $A = 1$\n",
    "* Save 100,000 samples of $f$ in the variable `samples_f` (as `numpy.array`)\n",
    "* Save 100,000 samples of $\\epsilon$ in the variable `samples_e` (as `numpy.array`)\n",
    "* Save 100,000 samples of $g$ in the variable `samples_g` (as `numpy.array`)\n",
    "\n",
    "Calculate the corresponding distributions using the implemented functions\n",
    "* Define the bin edges for $f$: $[-55, -54, -53, ..., 105]$\n",
    "* Define the bin edges for $g$: $[-60, -59, -58, ..., 120]$\n",
    "* Save $p(f)$ in the variable `p_f` (as `numpy.array`)\n",
    "* Save $p(g)$ in the variable `p_g` (as `numpy.array`)\n",
    "* Save $p(f,g)$ in the variable `p_f_and_g` (as `numpy.array`)\n",
    "* Save $p(g|f)$ in the variable `p_g_given_f` (as `numpy.array`)\n",
    "* Save $p(f|g)$ in the variable `p_f_given_g` (as `numpy.array`)\n",
    " \n",
    "Display the result (using `matplotlib.pyplot.pcolormesh()`)\n",
    "* Plot `p_f_and_g` in the left subplot of `axs`\n",
    "* Plot `p_g_given_f` in the middle subplot of `axs`\n",
    "* Plot `p_f_given_g` in the right subplot of `axs`\n",
    "* Show the colorbar of each subplot\n",
    "* Add proper axis labels to the subplots\n",
    "* Add proper titles to the subplots"
   ]
  },
  {
   "cell_type": "code",
   "execution_count": 101,
   "id": "5ce72261",
   "metadata": {
    "deletable": false,
    "nbgrader": {
     "cell_type": "code",
     "checksum": "ea0db24aa5fca138f0663deae40614cb",
     "grade": true,
     "grade_id": "a035",
     "locked": false,
     "points": 5,
     "schema_version": 3,
     "solution": true,
     "task": false
    }
   },
   "outputs": [
    {
     "data": {
      "text/plain": [
       "Text(0, 0.5, 'f')"
      ]
     },
     "execution_count": 101,
     "metadata": {},
     "output_type": "execute_result"
    },
    {
     "data": {
      "image/png": "[encoded data removed]",
      "text/plain": [
       "<Figure size 1080x360 with 6 Axes>"
      ]
     },
     "metadata": {
      "needs_background": "light"
     },
     "output_type": "display_data"
    }
   ],
   "source": [
    "f = np.random.normal(27, 15, (100000,))\n",
    "eps = np.random.normal(0, 4, (100000,))\n",
    "A = 1\n",
    "g = A * f + eps\n",
    "\n",
    "edges_f = np.arange(-55,106)\n",
    "edges_g = np.arange(-60,121)\n",
    "\n",
    "p_f = probability_one_variable(f, edges_f)\n",
    "p_g = probability_one_variable(g, edges_g)\n",
    "\n",
    "p_f_and_g, p_f_given_g, p_g_given_f = probability_two_variables(f, g, edges_f, edges_g)\n",
    "\n",
    "fig, axs = plt.subplots(1, 3, figsize=(15, 5))\n",
    "fig.suptitle('Signal generation 1')\n",
    "\n",
    "im = axs[0].pcolormesh(edges_g[1:], edges_f[1:], p_f_and_g, cmap=\"turbo\", shading=\"nearest\")\n",
    "plt.colorbar(im, ax=axs[0])\n",
    "axs[0].set_title(\"$p(f,g)$\")\n",
    "axs[0].set_xlabel(\"g\")\n",
    "axs[0].set_ylabel(\"f\")\n",
    "\n",
    "im = axs[1].pcolormesh(edges_g[1:], edges_f[1:], p_g_given_f, cmap=\"turbo\", shading=\"nearest\")\n",
    "plt.colorbar(im, ax=axs[1])\n",
    "axs[1].set_title(\"$p(g\\mid f)$\")\n",
    "axs[1].set_xlabel(\"g\")\n",
    "axs[1].set_ylabel(\"f\")\n",
    "\n",
    "axs[2].pcolormesh(edges_g[1:], edges_f[1:], p_f_given_g, cmap=\"turbo\", shading=\"nearest\")\n",
    "plt.colorbar(im, ax=axs[2])\n",
    "axs[2].set_title(\"$p(f\\mid g)$\")\n",
    "axs[2].set_xlabel(\"g\")\n",
    "axs[2].set_ylabel(\"f\")\n",
    "\n"
   ]
  },
  {
   "cell_type": "code",
   "execution_count": 102,
   "id": "7e4497e6",
   "metadata": {
    "deletable": false,
    "editable": false,
    "nbgrader": {
     "cell_type": "code",
     "checksum": "0268730dab168f3e23efbddd387e8ec7",
     "grade": true,
     "grade_id": "a045",
     "locked": true,
     "points": 10,
     "schema_version": 3,
     "solution": false,
     "task": false
    }
   },
   "outputs": [],
   "source": [
    "# This cell contains hidden tests.\n"
   ]
  },
  {
   "cell_type": "code",
   "execution_count": 103,
   "id": "566991fd",
   "metadata": {
    "deletable": false,
    "editable": false,
    "nbgrader": {
     "cell_type": "code",
     "checksum": "37d07ed3f48be8817696365c04ed748d",
     "grade": true,
     "grade_id": "a050",
     "locked": true,
     "points": 5,
     "schema_version": 3,
     "solution": false,
     "task": false
    }
   },
   "outputs": [],
   "source": [
    "# This cell contains hidden tests.\n"
   ]
  },
  {
   "cell_type": "code",
   "execution_count": 104,
   "id": "8a5f1b22",
   "metadata": {
    "deletable": false,
    "editable": false,
    "nbgrader": {
     "cell_type": "code",
     "checksum": "fe8a9c5eee5f4a50f93523bfb4209e6d",
     "grade": true,
     "grade_id": "cell-70ca235cbb6e11d2",
     "locked": true,
     "points": 0,
     "schema_version": 3,
     "solution": false,
     "task": false
    }
   },
   "outputs": [],
   "source": [
    "# This cell contains tests.\n",
    "\n",
    "# bins of unity width\n",
    "np.testing.assert_allclose(np.sum(p_f), 1)\n",
    "np.testing.assert_allclose(np.sum(p_g), 1)\n",
    "np.testing.assert_allclose(np.sum(p_f_and_g), 1)"
   ]
  },
  {
   "cell_type": "markdown",
   "id": "7767db7c",
   "metadata": {
    "deletable": false,
    "editable": false,
    "nbgrader": {
     "cell_type": "markdown",
     "checksum": "95868c2ecc07f8e43416aa20fa2c8b1a",
     "grade": false,
     "grade_id": "cell-9e29db900e62ed80",
     "locked": true,
     "schema_version": 3,
     "solution": false,
     "task": false
    }
   },
   "source": [
    "### Signal analysis 1\n",
    "Calculate the corresponding distributions with $g = 20$\n",
    "* *a priori* probability: $p(f)$ as a function of $f$\n",
    "* likelihood probability: $p(g|f)$ as a function of $f$\n",
    "* *a posteriori* probability $p(f|g)$ as a function of $f$\n",
    "\n",
    "Display the result\n",
    "* Plot *a priori* probability in the left subplot of `axs`\n",
    "* Plot likelihood probability in the middle subplot of `axs`\n",
    "* Plot *a posteriori* probability in the right subplot of `axs`\n",
    "* Plot the maximum peak point of each probability function as a red cross in the subplots\n",
    "* Show the location and value of the maximum peak point in the legend\n",
    "* Add proper axis labels to the subplots\n",
    "* Add proper titles to the subplots"
   ]
  },
  {
   "cell_type": "code",
   "execution_count": 105,
   "id": "4ac4bd72",
   "metadata": {
    "deletable": false,
    "nbgrader": {
     "cell_type": "code",
     "checksum": "ad95a123f7065e5149390f9fa3c8d445",
     "grade": true,
     "grade_id": "a055",
     "locked": false,
     "points": 5,
     "schema_version": 3,
     "solution": true,
     "task": false
    }
   },
   "outputs": [
    {
     "name": "stdout",
     "output_type": "stream",
     "text": [
      "21 [0.10390258]\n"
     ]
    },
    {
     "data": {
      "text/plain": [
       "<matplotlib.legend.Legend at 0x7f9b56c7dd60>"
      ]
     },
     "execution_count": 105,
     "metadata": {},
     "output_type": "execute_result"
    },
    {
     "data": {
      "image/png": "[encoded data removed]",
      "text/plain": [
       "<Figure size 1080x360 with 3 Axes>"
      ]
     },
     "metadata": {
      "needs_background": "light"
     },
     "output_type": "display_data"
    }
   ],
   "source": [
    "index, = np.where(edges_g==20)\n",
    "\n",
    "a_priori = p_f\n",
    "likelihood = p_g_given_f[:,index]\n",
    "a_posteriori = p_f_given_g[:,index]\n",
    "\n",
    "fig, axs = plt.subplots(1, 3, figsize=(15, 5))\n",
    "fig.suptitle('Signal analysis 1')\n",
    "\n",
    "axs[0].plot(edges_f[1:], a_priori)\n",
    "max_loc = edges_f[1:][np.argmax(a_priori)]\n",
    "max_value = a_priori[np.argmax(a_priori)]\n",
    "axs[0].plot(max_loc, max_value, \"+\", color=\"red\", label=\"Loc = {} \\nValue = {}\".format(max_loc, np.round(max_value,5)))\n",
    "axs[0].set_title(\"A priori $p(f)$\")\n",
    "axs[0].set_xlabel(\"f\")\n",
    "axs[0].set_ylabel(\"$p(f)$\")\n",
    "axs[0].legend()\n",
    "\n",
    "axs[1].plot(edges_f[1:], likelihood)\n",
    "max_loc = edges_f[1:][np.argmax(likelihood)]\n",
    "max_value = likelihood[np.argmax(likelihood)]\n",
    "print(max_loc, max_value)\n",
    "axs[1].plot(max_loc, max_value, \"+\", color=\"red\", label=\"Loc = {} \\nValue = {}\".format(max_loc, np.round(max_value[0],3)))\n",
    "axs[1].set_title(\"Likelhood $p(g\\mid f)$\")\n",
    "axs[1].set_xlabel(\"f\")\n",
    "axs[1].set_ylabel(\"$p(g\\mid f)$\")\n",
    "axs[1].legend()\n",
    "\n",
    "\n",
    "axs[2].plot(edges_f[1:], a_posteriori)\n",
    "max_loc = edges_f[1:][np.argmax(a_posteriori)]\n",
    "max_value = a_posteriori[np.argmax(a_posteriori)]\n",
    "axs[2].plot(max_loc, max_value, \"+\", color=\"red\", label=\"Loc = {} \\nValue = {}\".format(max_loc, np.round(max_value[0],3)))\n",
    "axs[2].set_title(\"A posteriori $p(f\\mid g)$\")\n",
    "axs[2].set_xlabel(\"f\")\n",
    "axs[2].set_ylabel(\"$p(f\\mid g)$\")\n",
    "axs[2].legend()\n"
   ]
  },
  {
   "cell_type": "code",
   "execution_count": 106,
   "id": "8d12ad80",
   "metadata": {
    "deletable": false,
    "editable": false,
    "nbgrader": {
     "cell_type": "code",
     "checksum": "7bb99318d5c7ddcd09c22c348bb78580",
     "grade": true,
     "grade_id": "a060",
     "locked": true,
     "points": 5,
     "schema_version": 3,
     "solution": false,
     "task": false
    }
   },
   "outputs": [],
   "source": [
    "# This cell contains hidden tests.\n"
   ]
  },
  {
   "cell_type": "code",
   "execution_count": 107,
   "id": "55c442d8",
   "metadata": {
    "deletable": false,
    "editable": false,
    "nbgrader": {
     "cell_type": "code",
     "checksum": "9f971b81c42806538e1c24ff57d442af",
     "grade": true,
     "grade_id": "a065",
     "locked": true,
     "points": 5,
     "schema_version": 3,
     "solution": false,
     "task": false
    }
   },
   "outputs": [],
   "source": [
    "# This cell contains hidden tests.\n"
   ]
  },
  {
   "cell_type": "markdown",
   "id": "4c3a908c",
   "metadata": {},
   "source": []
  },
  {
   "cell_type": "markdown",
   "id": "a050f93d",
   "metadata": {
    "deletable": false,
    "editable": false,
    "nbgrader": {
     "cell_type": "markdown",
     "checksum": "c03b467ee098cc5f8c5d13b4279c1878",
     "grade": false,
     "grade_id": "cell-9a347136a46ca566",
     "locked": true,
     "schema_version": 3,
     "solution": false,
     "task": false
    }
   },
   "source": [
    "### Signal generation 2\n",
    "Create the signals as follows\n",
    "* $f$ is a normally distributed scalar $f \\sim 0.5 \\mathcal{N}(27, 15^2) + 0.5\\mathcal{N}(7, 5^2)$ (using `numpy.hstack()`)\n",
    "* $\\epsilon$ is a normally distributed scalar $\\epsilon \\sim \\mathcal{N}(0, 4^2)$\n",
    "* $A = 1$\n",
    "* Save 100,000 samples of $f$ in the variable `samples_f` (as `numpy.array`)\n",
    "* Save 100,000 samples of $\\epsilon$ in the variable `samples_e` (as `numpy.array`)\n",
    "* Save 100,000 samples of $g$ in the variable `samples_g` (as `numpy.array`)\n",
    "\n",
    "Calculate the corresponding distributions using the implemented functions\n",
    "* Define the bin edges for $f$: $[-55, -54, -53, ..., 105]$\n",
    "* Define the bin edges for $g$: $[-60, -59, -58, ..., 120]$\n",
    "* Save $p(f)$ in the variable `p_f` (as `numpy.array`)\n",
    "* Save $p(g)$ in the variable `p_g` (as `numpy.array`)\n",
    "* Save $p(f,g)$ in the variable `p_f_and_g` (as `numpy.array`)\n",
    "* Save $p(g|f)$ in the variable `p_g_given_f` (as `numpy.array`)\n",
    "* Save $p(f|g)$ in the variable `p_f_given_g` (as `numpy.array`)\n",
    " \n",
    "Display the result (using `matplotlib.pyplot.pcolormesh()`)\n",
    "* Plot `p_f_and_g` in the left subplot of `axs`\n",
    "* Plot `p_g_given_f` in the middle subplot of `axs`\n",
    "* Plot `p_f_given_g` in the right subplot of `axs`\n",
    "* Show the colorbar of each subplot\n",
    "* Add proper axis labels to the subplots\n",
    "* Add proper titles to the subplots"
   ]
  },
  {
   "cell_type": "code",
   "execution_count": 108,
   "id": "3084e91d",
   "metadata": {
    "deletable": false,
    "nbgrader": {
     "cell_type": "code",
     "checksum": "a39c7b5ffb408198aff1fc6ed39db547",
     "grade": true,
     "grade_id": "a070",
     "locked": false,
     "points": 5,
     "schema_version": 3,
     "solution": true,
     "task": false
    }
   },
   "outputs": [
    {
     "data": {
      "text/plain": [
       "Text(0, 0.5, 'f')"
      ]
     },
     "execution_count": 108,
     "metadata": {},
     "output_type": "execute_result"
    },
    {
     "data": {
      "image/png": "[encoded data removed]",
      "text/plain": [
       "<Figure size 1080x360 with 6 Axes>"
      ]
     },
     "metadata": {
      "needs_background": "light"
     },
     "output_type": "display_data"
    }
   ],
   "source": [
    "f = np.hstack([np.random.normal(27, 15, 50000), np.random.normal(7, 5, 50000)])\n",
    "eps = np.random.normal(0, 4, 100000)\n",
    "A = 1\n",
    "g = A * f + eps\n",
    "\n",
    "edges_f = np.arange(-55,106)\n",
    "edges_g = np.arange(-60,121)\n",
    "\n",
    "p_f = probability_one_variable(f, edges_f)\n",
    "p_g = probability_one_variable(g, edges_g)\n",
    "\n",
    "p_f_and_g, p_f_given_g, p_g_given_f = probability_two_variables(f, g, edges_f, edges_g)\n",
    "\n",
    "fig, axs = plt.subplots(1, 3, figsize=(15, 5))\n",
    "fig.suptitle('Signal generation 2')\n",
    "\n",
    "im = axs[0].pcolormesh(edges_g[1:], edges_f[1:], p_f_and_g, cmap=\"turbo\")\n",
    "plt.colorbar(im, ax=axs[0])\n",
    "axs[0].set_title(\"$p(f,g)$\")\n",
    "axs[0].set_xlabel(\"g\")\n",
    "axs[0].set_ylabel(\"f\")\n",
    "\n",
    "im = axs[1].pcolormesh(edges_g[1:], edges_f[1:], p_g_given_f, cmap=\"turbo\")\n",
    "plt.colorbar(im, ax=axs[1])\n",
    "axs[1].set_title(\"$p(g\\mid f)$\")\n",
    "axs[1].set_xlabel(\"g\")\n",
    "axs[1].set_ylabel(\"f\")\n",
    "\n",
    "axs[2].pcolormesh(edges_g[1:], edges_f[1:], p_f_given_g, cmap=\"turbo\")\n",
    "plt.colorbar(im, ax=axs[2])\n",
    "axs[2].set_title(\"$p(f\\mid g)$\")\n",
    "axs[2].set_xlabel(\"g\")\n",
    "axs[2].set_ylabel(\"f\")"
   ]
  },
  {
   "cell_type": "code",
   "execution_count": 109,
   "id": "ff58605d",
   "metadata": {
    "deletable": false,
    "editable": false,
    "nbgrader": {
     "cell_type": "code",
     "checksum": "b4e45354138c8c07746fc1cbb316eb99",
     "grade": true,
     "grade_id": "a080",
     "locked": true,
     "points": 10,
     "schema_version": 3,
     "solution": false,
     "task": false
    }
   },
   "outputs": [],
   "source": [
    "# This cell contains hidden tests.\n"
   ]
  },
  {
   "cell_type": "code",
   "execution_count": 110,
   "id": "6e10b004",
   "metadata": {
    "deletable": false,
    "editable": false,
    "nbgrader": {
     "cell_type": "code",
     "checksum": "52afb2b56ea1a29b81b9ee43feba6647",
     "grade": true,
     "grade_id": "a085",
     "locked": true,
     "points": 5,
     "schema_version": 3,
     "solution": false,
     "task": false
    }
   },
   "outputs": [],
   "source": [
    "# This cell contains hidden tests.\n"
   ]
  },
  {
   "cell_type": "code",
   "execution_count": 111,
   "id": "eb50015b",
   "metadata": {
    "deletable": false,
    "editable": false,
    "nbgrader": {
     "cell_type": "code",
     "checksum": "ca81b812703f7cd8160fec2b650bbe79",
     "grade": true,
     "grade_id": "cell-a80c6aef83636e20",
     "locked": true,
     "points": 0,
     "schema_version": 3,
     "solution": false,
     "task": false
    }
   },
   "outputs": [],
   "source": [
    "# This cell contains tests.\n",
    "\n",
    "# bins of unity width\n",
    "np.testing.assert_allclose(np.sum(p_f), 1)\n",
    "np.testing.assert_allclose(np.sum(p_g), 1)\n",
    "np.testing.assert_allclose(np.sum(p_f_and_g), 1)"
   ]
  },
  {
   "cell_type": "markdown",
   "id": "46edefab",
   "metadata": {
    "deletable": false,
    "editable": false,
    "nbgrader": {
     "cell_type": "markdown",
     "checksum": "e7d5760d4683fcc796d3eb29bc6eaa76",
     "grade": false,
     "grade_id": "cell-a25f284804623b7f",
     "locked": true,
     "schema_version": 3,
     "solution": false,
     "task": false
    }
   },
   "source": [
    "### Signal analysis 2\n",
    "Calculate the corresponding distributions with $g = 20$\n",
    "* *a priori* probability: $p(f)$ as a function of $f$\n",
    "* likelihood probability: $p(g|f)$ as a function of $f$\n",
    "* *a posteriori* probability $p(f|g)$ as a function of $f$\n",
    "\n",
    "Display the result\n",
    "* Plot *a priori* probability in the left subplot of `axs`\n",
    "* Plot likelihood probability in the middle subplot of `axs`\n",
    "* Plot *a posteriori* probability in the right subplot of `axs`\n",
    "* Plot the maximum peak point of each probability function as a red cross in the subplots\n",
    "* Show the location and value of the maximum peak point in the legend\n",
    "* Add proper axis labels to the subplots\n",
    "* Add proper titles to the subplots"
   ]
  },
  {
   "cell_type": "code",
   "execution_count": 112,
   "id": "78018074",
   "metadata": {
    "deletable": false,
    "nbgrader": {
     "cell_type": "code",
     "checksum": "22dd9dc0285238e2e52fed008719f191",
     "grade": true,
     "grade_id": "a090",
     "locked": false,
     "points": 5,
     "schema_version": 3,
     "solution": true,
     "task": false
    }
   },
   "outputs": [
    {
     "name": "stdout",
     "output_type": "stream",
     "text": [
      "21 [0.11442315]\n"
     ]
    },
    {
     "data": {
      "text/plain": [
       "<matplotlib.legend.Legend at 0x7f9b56907fd0>"
      ]
     },
     "execution_count": 112,
     "metadata": {},
     "output_type": "execute_result"
    },
    {
     "data": {
      "image/png": "[encoded data removed]",
      "text/plain": [
       "<Figure size 1080x360 with 3 Axes>"
      ]
     },
     "metadata": {
      "needs_background": "light"
     },
     "output_type": "display_data"
    }
   ],
   "source": [
    "index, = np.where(edges_g==20)\n",
    "\n",
    "a_priori = p_f\n",
    "likelihood = p_g_given_f[:,index]\n",
    "a_posteriori = p_f_given_g[:,index]\n",
    "\n",
    "fig, axs = plt.subplots(1, 3, figsize=(15, 5))\n",
    "fig.suptitle('Signal analysis 2')\n",
    "\n",
    "axs[0].plot(edges_f[1:], a_priori)\n",
    "max_loc = edges_f[1:][np.argmax(a_priori)]\n",
    "max_value = a_priori[np.argmax(a_priori)]\n",
    "axs[0].plot(max_loc, max_value, \"+\", color=\"red\", label=\"Loc = {} \\nValue = {}\".format(max_loc, np.round(max_value,5)))\n",
    "axs[0].set_title(\"A priori $p(f)$\")\n",
    "axs[0].set_xlabel(\"f\")\n",
    "axs[0].set_ylabel(\"$p(f)$\")\n",
    "axs[0].legend()\n",
    "\n",
    "axs[1].plot(edges_f[1:], likelihood)\n",
    "max_loc = edges_f[1:][np.argmax(likelihood)]\n",
    "max_value = likelihood[np.argmax(likelihood)]\n",
    "print(max_loc, max_value)\n",
    "axs[1].plot(max_loc, max_value, \"+\", color=\"red\", label=\"Loc = {} \\nValue = {}\".format(max_loc, np.round(max_value[0],3)))\n",
    "axs[1].set_title(\"Likelhood $p(g\\mid f)$\")\n",
    "axs[1].set_xlabel(\"f\")\n",
    "axs[1].set_ylabel(\"$p(g\\mid f)$\")\n",
    "axs[1].legend()\n",
    "\n",
    "\n",
    "axs[2].plot(edges_f[1:], a_posteriori)\n",
    "max_loc = edges_f[1:][np.argmax(a_posteriori)]\n",
    "max_value = a_posteriori[np.argmax(a_posteriori)]\n",
    "axs[2].plot(max_loc, max_value, \"+\", color=\"red\", label=\"Loc = {} \\nValue = {}\".format(max_loc, np.round(max_value[0],3)))\n",
    "axs[2].set_title(\"A posteriori $p(f\\mid g)$\")\n",
    "axs[2].set_xlabel(\"f\")\n",
    "axs[2].set_ylabel(\"$p(f\\mid g)$\")\n",
    "axs[2].legend()"
   ]
  },
  {
   "cell_type": "code",
   "execution_count": 113,
   "id": "898d292d",
   "metadata": {
    "deletable": false,
    "editable": false,
    "nbgrader": {
     "cell_type": "code",
     "checksum": "545a34a30eb2e907cfcfe2e675113fcd",
     "grade": true,
     "grade_id": "a095",
     "locked": true,
     "points": 5,
     "schema_version": 3,
     "solution": false,
     "task": false
    }
   },
   "outputs": [],
   "source": [
    "# This cell contains hidden tests.\n"
   ]
  },
  {
   "cell_type": "code",
   "execution_count": 114,
   "id": "9ed2b717",
   "metadata": {
    "deletable": false,
    "editable": false,
    "nbgrader": {
     "cell_type": "code",
     "checksum": "fe4041489eb34565b04aedbe25131210",
     "grade": true,
     "grade_id": "a100",
     "locked": true,
     "points": 5,
     "schema_version": 3,
     "solution": false,
     "task": false
    }
   },
   "outputs": [],
   "source": [
    "# This cell contains hidden tests.\n"
   ]
  },
  {
   "cell_type": "code",
   "execution_count": null,
   "id": "b1fab88b",
   "metadata": {},
   "outputs": [],
   "source": []
  }
 ],
 "metadata": {
  "kernelspec": {
   "display_name": "Python 3.8.5 ('base')",
   "language": "python",
   "name": "python3"
  },
  "language_info": {
   "codemirror_mode": {
    "name": "ipython",
    "version": 3
   },
   "file_extension": ".py",
   "mimetype": "text/x-python",
   "name": "python",
   "nbconvert_exporter": "python",
   "pygments_lexer": "ipython3",
   "version": "3.8.5"
  },
  "vscode": {
   "interpreter": {
    "hash": "efcf8a7d29568ee6aa19d18162f3216c75d115c7ce0b1cb4e80848b9a37f2ca8"
   }
  }
 },
 "nbformat": 4,
 "nbformat_minor": 5
}
